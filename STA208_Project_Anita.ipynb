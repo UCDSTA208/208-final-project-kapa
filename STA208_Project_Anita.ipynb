{
 "cells": [
  {
   "cell_type": "code",
   "execution_count": 268,
   "metadata": {
    "collapsed": false
   },
   "outputs": [],
   "source": [
    "import numpy as np\n",
    "import pandas as pd\n",
    "import string\n",
    "import email\n",
    "import os ##use this to traverse folders\n",
    "from email.parser import Parser\n",
    "\n",
    "#extract labels from TREC2007/full/ file lists\n",
    "with open('trec07p/full/index', 'r') as ifile:\n",
    "    raw_labels = ifile.readlines()\n",
    "\n",
    "#using file list to give labels and e-mail numbers\n",
    "\n",
    "categories = [i.split( )[0] for i in raw_labels]\n",
    "email_nums = [i.split(\".\")[-1][:-1] for i in raw_labels]\n",
    "labels = pd.Series(categories, index=email_nums)\n"
   ]
  },
  {
   "cell_type": "code",
   "execution_count": 131,
   "metadata": {
    "collapsed": false
   },
   "outputs": [],
   "source": [
    "#reference from other place\n",
    "\n",
    "# parser = Parser()\n",
    "# corpus = []\n",
    "# for email_num in email_nums:\n",
    "#     filepath = 'trec07p/data/inmail.%s' % email_num\n",
    "\n",
    "#     with open(filepath, 'r',) as ifile:\n",
    "#         email = parser.parse(ifile)\n",
    "\n",
    "#     ## TODO also keep the subject header\n",
    "\n",
    "#     ## code and details from:\n",
    "#     ## https://stackoverflow.com/questions/17874360/python-how-to-parse-the-body-from-a-raw-email-given-that-raw-email-does-not/32840516#32840516\n",
    "#     if email.is_multipart():\n",
    "#         for part in email.walk():\n",
    "#             content_type = part.get_content_type()\n",
    "#             content_dispo = str(part.get('Content-Disposition'))\n",
    "\n",
    "#             # skip any text/plain (txt) attachments\n",
    "#             if content_type == 'text/plain' and 'attachment' not in content_dispo:\n",
    "#                 body = part.get_payload(decode=False)\n",
    "#                 break ## only keep the first email\n",
    "#     else:\n",
    "#         body = email.get_payload(decode=False)\n",
    "\n",
    "#     ## TODO strip html stuff ? or valuable features ?\n",
    "#     try:\n",
    "#         corpus.append((email_num, body))\n",
    "#     except NameError:\n",
    "#         pass\n",
    "\n",
    "# email_nums, corpus = zip(*corpus)"
   ]
  },
  {
   "cell_type": "code",
   "execution_count": 132,
   "metadata": {
    "collapsed": false
   },
   "outputs": [],
   "source": [
    "# extract the body of email\n",
    "def walkMsg(msg):\n",
    "    \"\"\"\n",
    "    Input: string of email\n",
    "    Output: body of email\n",
    "    \"\"\"\n",
    "    for part in msg.walk():\n",
    "        if part.get_content_type() == \"multipart/alternative\":\n",
    "            continue\n",
    "        yield part.get_payload(decode=1)"
   ]
  },
  {
   "cell_type": "code",
   "execution_count": 213,
   "metadata": {
    "collapsed": false
   },
   "outputs": [],
   "source": [
    "email=e\n",
    "info.append([email.get(\"From\"), email.get('To'), email.get('cc'), email.get('bcc'), \n",
    "                 str(email.get(\"Content-Type\")).split(\";\")[0],\n",
    "                 email.get('subject'), \" \".join([i for i in walkMsg(email) if i != None]),categories[0]])"
   ]
  },
  {
   "cell_type": "code",
   "execution_count": 278,
   "metadata": {
    "collapsed": false
   },
   "outputs": [],
   "source": [
    "def info_of_email_2():\n",
    "    \"\"\"\n",
    "    Input: path, list of files name, classification(spam or ham)\n",
    "    Ourput: a list with info of email\n",
    "    \"\"\"\n",
    "    \n",
    "    parser = Parser()\n",
    "    info = []\n",
    "    for nums in range(len(categories)):\n",
    "        filepath = 'trec07p/data/inmail.%s' % email_nums[nums]\n",
    "        \n",
    "        with open(filepath, 'r',) as ifile:\n",
    "            email = parser.parse(ifile)\n",
    "            info.append([email.get(\"From\"), email.get('To'), email.get('cc'), email.get('bcc'), \n",
    "                         str(email.get(\"Content-Type\")).split(\";\")[0],\n",
    "                         email.get('subject'), \" \".join([i for i in walkMsg(email) if i != None]),categories[nums]])\n",
    "    return info"
   ]
  },
  {
   "cell_type": "code",
   "execution_count": 281,
   "metadata": {
    "collapsed": false
   },
   "outputs": [],
   "source": [
    "df = pd.DataFrame(info_of_email_2(),columns=['From','To','cc','bcc','Content_type','Subjects','Content','Classification'])"
   ]
  }
 ],
 "metadata": {
  "anaconda-cloud": {},
  "kernelspec": {
   "display_name": "Python 2",
   "language": "python",
   "name": "python2"
  },
  "language_info": {
   "codemirror_mode": {
    "name": "ipython",
    "version": 2
   },
   "file_extension": ".py",
   "mimetype": "text/x-python",
   "name": "python",
   "nbconvert_exporter": "python",
   "pygments_lexer": "ipython2",
   "version": "2.7.12"
  }
 },
 "nbformat": 4,
 "nbformat_minor": 2
}
