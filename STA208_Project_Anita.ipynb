{
 "cells": [
  {
   "cell_type": "code",
   "execution_count": 207,
   "metadata": {
    "collapsed": false
   },
   "outputs": [],
   "source": [
    "##set up\n",
    "import numpy as np\n",
    "import pandas as pd\n",
    "import string\n",
    "import email\n",
    "import os ##use this to traverse folders\n",
    "from email.parser import Parser\n",
    "import re\n",
    "import lxml.html\n",
    "import collections\n"
   ]
  },
  {
   "cell_type": "code",
   "execution_count": 208,
   "metadata": {
    "collapsed": true
   },
   "outputs": [],
   "source": [
    "#extract labels from TREC2007/full/ file lists\n",
    "with open('trec07p/full/index', 'r') as ifile:\n",
    "    raw_labels = ifile.readlines()\n",
    "\n",
    "#using file list to give labels and e-mail numbers\n",
    "\n",
    "categories = [i.split( )[0] for i in raw_labels]\n",
    "email_nums = [i.split(\".\")[-1][:-1] for i in raw_labels]\n",
    "labels = pd.Series(categories, index=email_nums)"
   ]
  },
  {
   "cell_type": "code",
   "execution_count": 209,
   "metadata": {
    "collapsed": false
   },
   "outputs": [],
   "source": [
    "# extract the body of email\n",
    "def walkMsg(msg):\n",
    "    \"\"\"\n",
    "    Input: string of email\n",
    "    Output: body of email\n",
    "    \"\"\"\n",
    "    for part in msg.walk():\n",
    "        if part.get_content_type() == \"multipart/alternative\":\n",
    "            continue\n",
    "        yield part.get_payload(decode=1)"
   ]
  },
  {
   "cell_type": "code",
   "execution_count": 210,
   "metadata": {
    "collapsed": true
   },
   "outputs": [],
   "source": [
    "##encode\n",
    "def robust_decode(bs):\n",
    "    '''Takes a byte string as param and convert it into a unicode one.\n",
    "First tries UTF8, and fallback to Latin1 if it fails'''\n",
    "    cr = None\n",
    "    try:\n",
    "        #cr = bs.decode('utf8')\n",
    "        cr = bs.decode('utf-8-sig')\n",
    "    except UnicodeDecodeError:\n",
    "        cr = bs.decode('ISO-8859-1')\n",
    "        cr = cr.encode(\"ascii\", \"ignore\")\n",
    "        cr = cr.decode('utf8')\n",
    "    return cr"
   ]
  },
  {
   "cell_type": "code",
   "execution_count": 211,
   "metadata": {
    "collapsed": false
   },
   "outputs": [],
   "source": [
    "def info_of_email_2():\n",
    "    \"\"\"\n",
    "    Input: path, list of files name, classification(spam or ham)\n",
    "    Ourput: a list with info of email\n",
    "    \"\"\"\n",
    "    \n",
    "    parser = Parser()\n",
    "    info = []\n",
    "    for nums in range(len(categories)):\n",
    "        filepath = 'trec07p/data/inmail.%s' % email_nums[nums]\n",
    "        \n",
    "        with open(filepath, 'r') as ifile:\n",
    "            email = parser.parse(ifile)\n",
    "            \n",
    "            Date = email.get(\"Date\")\n",
    "\n",
    "            Content = \" \".join([robust_decode(i) for i in walkMsg(email) if i != None])\n",
    "            Content = ''.join(Content.splitlines())\n",
    "            Content = Content.replace(\"\\t\",\"\")\n",
    "            \n",
    "            if 'html' in Content.lower():\n",
    "                Content = lxml.html.fromstring(Content).text_content()\n",
    "            try: \n",
    "                year = re.search('\\d{4}',Date).group(0)\n",
    "            except:\n",
    "                year = None\n",
    "            try:\n",
    "                hour = re.search('\\d{2}:\\d{2}:\\d{2}',Date).group(0).split(\":\")[0]\n",
    "            except:\n",
    "                hour = None\n",
    "            try: \n",
    "                weekday = re.search('Mon|Tue|Wed|Thu|Fri|Sat|Sun',Date).group(0)\n",
    "            except: \n",
    "                weekday =None\n",
    "            try:\n",
    "                month = re.search('Jan|Feb|Mar|Apr|May|Jun|Jul|Aug|Sep|Oct|Nov|Dec|Sept',Date).group(0)\n",
    "            except:\n",
    "                month =None\n",
    "            info.append([year, weekday, hour, month,\n",
    "                         email.get(\"From\"),email.get('To'),\n",
    "                         email.get('cc'),email.get('bcc'), \n",
    "                         str(email.get(\"Content-Type\")).split(\";\")[0].lower(),\n",
    "                         email.get('subject'),\n",
    "                         Content,\n",
    "                         categories[nums]])\n",
    "    return info"
   ]
  },
  {
   "cell_type": "code",
   "execution_count": 216,
   "metadata": {
    "collapsed": false
   },
   "outputs": [],
   "source": [
    "trec07 = pd.DataFrame(info_of_email_2(),\n",
    "                 columns=['Year','Weekday',\"Hour\",\"Month\",\n",
    "                          'From','To','cc','bcc','Content_type','Subjects','Content','Classification'])"
   ]
  },
  {
   "cell_type": "code",
   "execution_count": 217,
   "metadata": {
    "collapsed": false
   },
   "outputs": [],
   "source": [
    "##Final Date\n",
    "trec07 = trec07.loc[trec07.Year.isin(['1999','2000','2001','2002','2003','2004','2005','2006','2007'])]"
   ]
  }
 ],
 "metadata": {
  "anaconda-cloud": {},
  "kernelspec": {
   "display_name": "Python 2",
   "language": "python",
   "name": "python2"
  },
  "language_info": {
   "codemirror_mode": {
    "name": "ipython",
    "version": 2
   },
   "file_extension": ".py",
   "mimetype": "text/x-python",
   "name": "python",
   "nbconvert_exporter": "python",
   "pygments_lexer": "ipython2",
   "version": "2.7.12"
  }
 },
 "nbformat": 4,
 "nbformat_minor": 2
}
