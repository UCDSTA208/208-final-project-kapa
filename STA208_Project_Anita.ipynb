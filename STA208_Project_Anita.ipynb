{
 "cells": [
  {
   "cell_type": "code",
   "execution_count": 52,
   "metadata": {
    "collapsed": false
   },
   "outputs": [],
   "source": [
    "##set up\n",
    "import numpy as np\n",
    "import pandas as pd\n",
    "import string\n",
    "import email\n",
    "import os ##use this to traverse folders\n",
    "from email.parser import Parser\n",
    "import re\n",
    "import lxml.html\n",
    "import collections"
   ]
  },
  {
   "cell_type": "code",
   "execution_count": 53,
   "metadata": {
    "collapsed": true
   },
   "outputs": [],
   "source": [
    "#extract labels from TREC2007/full/ file lists\n",
    "with open('trec07p/full/index', 'r') as ifile:\n",
    "    raw_labels = ifile.readlines()\n",
    "\n",
    "#using file list to give labels and e-mail numbers\n",
    "\n",
    "categories = [i.split( )[0] for i in raw_labels]\n",
    "email_nums = [i.split(\".\")[-1][:-1] for i in raw_labels]\n",
    "labels = pd.Series(categories, index=email_nums)"
   ]
  },
  {
   "cell_type": "code",
   "execution_count": 131,
   "metadata": {
    "collapsed": false
   },
   "outputs": [],
   "source": [
    "#reference from other place\n",
    "\n",
    "# parser = Parser()\n",
    "# corpus = []\n",
    "# for email_num in email_nums:\n",
    "#     filepath = 'trec07p/data/inmail.%s' % email_num\n",
    "\n",
    "#     with open(filepath, 'r',) as ifile:\n",
    "#         email = parser.parse(ifile)\n",
    "\n",
    "#     ## TODO also keep the subject header\n",
    "\n",
    "#     ## code and details from:\n",
    "#     ## https://stackoverflow.com/questions/17874360/python-how-to-parse-the-body-from-a-raw-email-given-that-raw-email-does-not/32840516#32840516\n",
    "#     if email.is_multipart():\n",
    "#         for part in email.walk():\n",
    "#             content_type = part.get_content_type()\n",
    "#             content_dispo = str(part.get('Content-Disposition'))\n",
    "\n",
    "#             # skip any text/plain (txt) attachments\n",
    "#             if content_type == 'text/plain' and 'attachment' not in content_dispo:\n",
    "#                 body = part.get_payload(decode=False)\n",
    "#                 break ## only keep the first email\n",
    "#     else:\n",
    "#         body = email.get_payload(decode=False)\n",
    "\n",
    "#     ## TODO strip html stuff ? or valuable features ?\n",
    "#     try:\n",
    "#         corpus.append((email_num, body))\n",
    "#     except NameError:\n",
    "#         pass\n",
    "\n",
    "# email_nums, corpus = zip(*corpus)"
   ]
  },
  {
   "cell_type": "code",
   "execution_count": 18,
   "metadata": {
    "collapsed": false
   },
   "outputs": [],
   "source": [
    "# extract the body of email\n",
    "def walkMsg(msg):\n",
    "    \"\"\"\n",
    "    Input: string of email\n",
    "    Output: body of email\n",
    "    \"\"\"\n",
    "    for part in msg.walk():\n",
    "        if part.get_content_type() == \"multipart/alternative\":\n",
    "            continue\n",
    "        yield part.get_payload(decode=1)"
   ]
  },
  {
   "cell_type": "code",
   "execution_count": 19,
   "metadata": {
    "collapsed": true
   },
   "outputs": [],
   "source": [
    "##encode\n",
    "def robust_decode(bs):\n",
    "    '''Takes a byte string as param and convert it into a unicode one.\n",
    "First tries UTF8, and fallback to Latin1 if it fails'''\n",
    "    cr = None\n",
    "    try:\n",
    "        cr = bs.decode('utf8')\n",
    "    except UnicodeDecodeError:\n",
    "        cr = bs.decode('ISO-8859-1')\n",
    "    return cr"
   ]
  },
  {
   "cell_type": "code",
   "execution_count": 46,
   "metadata": {
    "collapsed": false
   },
   "outputs": [],
   "source": [
    "def info_of_email_2():\n",
    "    \"\"\"\n",
    "    Input: path, list of files name, classification(spam or ham)\n",
    "    Ourput: a list with info of email\n",
    "    \"\"\"\n",
    "    \n",
    "    parser = Parser()\n",
    "    info = []\n",
    "    for nums in range(len(categories)):\n",
    "        filepath = 'trec07p/data/inmail.%s' % email_nums[nums]\n",
    "        \n",
    "        with open(filepath, 'r') as ifile:\n",
    "            email = parser.parse(ifile)\n",
    "            \n",
    "            Date = email.get(\"Date\")\n",
    "            Content = \" \".join([robust_decode(i) for i in walkMsg(email) if i != None]).replace(\"\\n\",\" \").replace(\"\\t\",\" \").replace(\"r\",\" \")\n",
    "            if 'html' in Content:\n",
    "                Content = lxml.html.fromstring(Content).text_content()\n",
    "            try:\n",
    "                Date = re.split(':|,| ',Date)\n",
    "                info.append([Date[4], Date[3], Date[2], Date[0], Date[5],\n",
    "                             email.get(\"From\"),email.get('To'),\n",
    "                             email.get('cc'),email.get('bcc'), \n",
    "                             str(email.get(\"Content-Type\")).split(\";\")[0],\n",
    "                             email.get('subject'),\n",
    "                             Content,\n",
    "                             categories[nums]])\n",
    "            except:\n",
    "                info.append([[], [], [], [], [],\n",
    "                             email.get(\"From\"), email.get('To'),\n",
    "                             email.get('cc'), email.get('bcc'), \n",
    "                             str(email.get(\"Content-Type\")).split(\";\")[0],\n",
    "                             email.get('subject'),\n",
    "                             Content,\n",
    "                             categories[nums]])\n",
    "    return info"
   ]
  },
  {
   "cell_type": "code",
   "execution_count": 47,
   "metadata": {
    "collapsed": false
   },
   "outputs": [],
   "source": [
    "df = pd.DataFrame(info_of_email_2(),\n",
    "                 columns=['Year','Month','Day','Weekday',\"Hour\",\n",
    "                                'From','To','cc','bcc','Content_type','Subjects','Content','Classification'])"
   ]
  },
  {
   "cell_type": "code",
   "execution_count": 50,
   "metadata": {
    "collapsed": false
   },
   "outputs": [
    {
     "data": {
      "text/html": [
       "<div>\n",
       "<table border=\"1\" class=\"dataframe\">\n",
       "  <thead>\n",
       "    <tr style=\"text-align: right;\">\n",
       "      <th></th>\n",
       "      <th>Year</th>\n",
       "      <th>Month</th>\n",
       "      <th>Day</th>\n",
       "      <th>Weekday</th>\n",
       "      <th>Hour</th>\n",
       "      <th>From</th>\n",
       "      <th>To</th>\n",
       "      <th>cc</th>\n",
       "      <th>bcc</th>\n",
       "      <th>Content_type</th>\n",
       "      <th>Subjects</th>\n",
       "      <th>Content</th>\n",
       "      <th>Classification</th>\n",
       "    </tr>\n",
       "  </thead>\n",
       "  <tbody>\n",
       "    <tr>\n",
       "      <th>0</th>\n",
       "      <td>2007</td>\n",
       "      <td>Apr</td>\n",
       "      <td>08</td>\n",
       "      <td>Sun</td>\n",
       "      <td>21</td>\n",
       "      <td>\"Tomas Jacobs\" &lt;RickyAmes@aol.com&gt;</td>\n",
       "      <td>the00@speedy.uwaterloo.ca</td>\n",
       "      <td>None</td>\n",
       "      <td>None</td>\n",
       "      <td>multipart/alternative</td>\n",
       "      <td>Generic Cialis, branded quality@</td>\n",
       "      <td>Do you feel the p essu e to pe fo m and...</td>\n",
       "      <td>spam</td>\n",
       "    </tr>\n",
       "    <tr>\n",
       "      <th>1</th>\n",
       "      <td>2007</td>\n",
       "      <td>Apr</td>\n",
       "      <td>08</td>\n",
       "      <td>Sun</td>\n",
       "      <td>12</td>\n",
       "      <td>Yan Morin &lt;yan.morin@savoirfairelinux.com&gt;</td>\n",
       "      <td>debian-mirrors@lists.debian.org</td>\n",
       "      <td>None</td>\n",
       "      <td>None</td>\n",
       "      <td>text/plain</td>\n",
       "      <td>Typo in /debian/README</td>\n",
       "      <td>Hi, i've just updated f om the gulus and I che...</td>\n",
       "      <td>ham</td>\n",
       "    </tr>\n",
       "    <tr>\n",
       "      <th>2</th>\n",
       "      <td>2007</td>\n",
       "      <td>Apr</td>\n",
       "      <td>8</td>\n",
       "      <td>Sun</td>\n",
       "      <td>17</td>\n",
       "      <td>\"Sheila Crenshaw\" &lt;7stocknews@tractionmarketin...</td>\n",
       "      <td>&lt;the00@plg.uwaterloo.ca&gt;</td>\n",
       "      <td>None</td>\n",
       "      <td>None</td>\n",
       "      <td>multipart/alternative</td>\n",
       "      <td>authentic viagra</td>\n",
       "      <td>Mega  authenticV I A G R A   $ DISCOUNT p iceC...</td>\n",
       "      <td>spam</td>\n",
       "    </tr>\n",
       "    <tr>\n",
       "      <th>3</th>\n",
       "      <td>2007</td>\n",
       "      <td>Apr</td>\n",
       "      <td>08</td>\n",
       "      <td>Sun</td>\n",
       "      <td>17</td>\n",
       "      <td>\"Stormy Dempsey\" &lt;vqucsmdfgvsg@ruraltek.com&gt;</td>\n",
       "      <td>opt4@speedy.uwaterloo.ca</td>\n",
       "      <td>None</td>\n",
       "      <td>None</td>\n",
       "      <td>text/plain</td>\n",
       "      <td>Nice talking with ya</td>\n",
       "      <td>Hey Billy,   it was  eally fun going out the ...</td>\n",
       "      <td>spam</td>\n",
       "    </tr>\n",
       "    <tr>\n",
       "      <th>4</th>\n",
       "      <td>2007</td>\n",
       "      <td>Apr</td>\n",
       "      <td>8</td>\n",
       "      <td>Sun</td>\n",
       "      <td>19</td>\n",
       "      <td>\"Christi T. Jernigan\" &lt;dcube@totalink.net&gt;</td>\n",
       "      <td>ktwarwic@speedy.uwaterloo.ca</td>\n",
       "      <td>None</td>\n",
       "      <td>None</td>\n",
       "      <td>multipart/related</td>\n",
       "      <td>or trembling; stomach cramps; trouble in sleep...</td>\n",
       "      <td>system\" of the home.  It will have the capabil...</td>\n",
       "      <td>spam</td>\n",
       "    </tr>\n",
       "  </tbody>\n",
       "</table>\n",
       "</div>"
      ],
      "text/plain": [
       "   Year Month Day Weekday Hour  \\\n",
       "0  2007   Apr  08     Sun   21   \n",
       "1  2007   Apr  08     Sun   12   \n",
       "2  2007   Apr   8     Sun   17   \n",
       "3  2007   Apr  08     Sun   17   \n",
       "4  2007   Apr   8     Sun   19   \n",
       "\n",
       "                                                From  \\\n",
       "0                 \"Tomas Jacobs\" <RickyAmes@aol.com>   \n",
       "1         Yan Morin <yan.morin@savoirfairelinux.com>   \n",
       "2  \"Sheila Crenshaw\" <7stocknews@tractionmarketin...   \n",
       "3       \"Stormy Dempsey\" <vqucsmdfgvsg@ruraltek.com>   \n",
       "4         \"Christi T. Jernigan\" <dcube@totalink.net>   \n",
       "\n",
       "                                To    cc   bcc           Content_type  \\\n",
       "0        the00@speedy.uwaterloo.ca  None  None  multipart/alternative   \n",
       "1  debian-mirrors@lists.debian.org  None  None             text/plain   \n",
       "2         <the00@plg.uwaterloo.ca>  None  None  multipart/alternative   \n",
       "3         opt4@speedy.uwaterloo.ca  None  None             text/plain   \n",
       "4     ktwarwic@speedy.uwaterloo.ca  None  None      multipart/related   \n",
       "\n",
       "                                            Subjects  \\\n",
       "0                  Generic Cialis, branded quality@    \n",
       "1                             Typo in /debian/README   \n",
       "2                                   authentic viagra   \n",
       "3                               Nice talking with ya   \n",
       "4  or trembling; stomach cramps; trouble in sleep...   \n",
       "\n",
       "                                             Content Classification  \n",
       "0         Do you feel the p essu e to pe fo m and...           spam  \n",
       "1  Hi, i've just updated f om the gulus and I che...            ham  \n",
       "2  Mega  authenticV I A G R A   $ DISCOUNT p iceC...           spam  \n",
       "3   Hey Billy,   it was  eally fun going out the ...           spam  \n",
       "4  system\" of the home.  It will have the capabil...           spam  "
      ]
     },
     "execution_count": 50,
     "metadata": {},
     "output_type": "execute_result"
    }
   ],
   "source": [
    "df.head()"
   ]
  },
  {
   "cell_type": "code",
   "execution_count": 57,
   "metadata": {
    "collapsed": false
   },
   "outputs": [
    {
     "ename": "TypeError",
     "evalue": "cannot convert the series to <type 'int'>",
     "output_type": "error",
     "traceback": [
      "\u001b[0;31m---------------------------------------------------------------------------\u001b[0m",
      "\u001b[0;31mTypeError\u001b[0m                                 Traceback (most recent call last)",
      "\u001b[0;32m<ipython-input-57-21d3f0261f8e>\u001b[0m in \u001b[0;36m<module>\u001b[0;34m()\u001b[0m\n\u001b[0;32m----> 1\u001b[0;31m \u001b[0mcollections\u001b[0m\u001b[0;34m.\u001b[0m\u001b[0mCounter\u001b[0m\u001b[0;34m(\u001b[0m\u001b[0mint\u001b[0m\u001b[0;34m(\u001b[0m\u001b[0mdf\u001b[0m\u001b[0;34m[\u001b[0m\u001b[0;34m'Year'\u001b[0m\u001b[0;34m]\u001b[0m\u001b[0;34m)\u001b[0m\u001b[0;34m)\u001b[0m\u001b[0;34m\u001b[0m\u001b[0m\n\u001b[0m",
      "\u001b[0;32m/Users/HUI/miniconda2/lib/python2.7/site-packages/pandas/core/series.pyc\u001b[0m in \u001b[0;36mwrapper\u001b[0;34m(self)\u001b[0m\n\u001b[1;32m     91\u001b[0m             \u001b[0;32mreturn\u001b[0m \u001b[0mconverter\u001b[0m\u001b[0;34m(\u001b[0m\u001b[0mself\u001b[0m\u001b[0;34m.\u001b[0m\u001b[0miloc\u001b[0m\u001b[0;34m[\u001b[0m\u001b[0;36m0\u001b[0m\u001b[0;34m]\u001b[0m\u001b[0;34m)\u001b[0m\u001b[0;34m\u001b[0m\u001b[0m\n\u001b[1;32m     92\u001b[0m         raise TypeError(\"cannot convert the series to \"\n\u001b[0;32m---> 93\u001b[0;31m                         \"{0}\".format(str(converter)))\n\u001b[0m\u001b[1;32m     94\u001b[0m \u001b[0;34m\u001b[0m\u001b[0m\n\u001b[1;32m     95\u001b[0m     \u001b[0;32mreturn\u001b[0m \u001b[0mwrapper\u001b[0m\u001b[0;34m\u001b[0m\u001b[0m\n",
      "\u001b[0;31mTypeError\u001b[0m: cannot convert the series to <type 'int'>"
     ]
    }
   ],
   "source": [
    "collections.Counter(int(df['Year']))"
   ]
  },
  {
   "cell_type": "code",
   "execution_count": null,
   "metadata": {
    "collapsed": true
   },
   "outputs": [],
   "source": [
    "filepath = 'trec07p/data/inmail.%s' % email_nums[nums]\n",
    "\n",
    "with open(filepath, 'r') as ifile:\n",
    "    email = parser.parse(ifile)"
   ]
  }
 ],
 "metadata": {
  "anaconda-cloud": {},
  "kernelspec": {
   "display_name": "Python 2",
   "language": "python",
   "name": "python2"
  },
  "language_info": {
   "codemirror_mode": {
    "name": "ipython",
    "version": 2
   },
   "file_extension": ".py",
   "mimetype": "text/x-python",
   "name": "python",
   "nbconvert_exporter": "python",
   "pygments_lexer": "ipython2",
   "version": "2.7.12"
  }
 },
 "nbformat": 4,
 "nbformat_minor": 2
}
