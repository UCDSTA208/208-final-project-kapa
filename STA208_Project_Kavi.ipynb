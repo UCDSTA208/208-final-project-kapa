{
 "cells": [
  {
   "cell_type": "code",
   "execution_count": 295,
   "metadata": {
    "collapsed": true,
    "deletable": true,
    "editable": true
   },
   "outputs": [],
   "source": [
    "import pandas as pd\n",
    "import numpy as np\n",
    "import email\n",
    "import os\n",
    "from email.parser import Parser\n",
    "import re"
   ]
  },
  {
   "cell_type": "code",
   "execution_count": 296,
   "metadata": {
    "collapsed": false,
    "deletable": true,
    "editable": true
   },
   "outputs": [],
   "source": [
    "ham_dir = '/media/sf_Windows/SPAM_ASSASSIN/HAM/'\n",
    "ham_emails = os.listdir(ham_dir)\n",
    "spam_dir = '/media/sf_Windows/SPAM_ASSASSIN/SPAM/'\n",
    "spam_emails = os.listdir(spam_dir)"
   ]
  },
  {
   "cell_type": "code",
   "execution_count": 278,
   "metadata": {
    "collapsed": false,
    "deletable": true,
    "editable": true
   },
   "outputs": [],
   "source": [
    "emails = os.listdir(ham_dir+ham_emails[0]+'/')"
   ]
  },
  {
   "cell_type": "code",
   "execution_count": 297,
   "metadata": {
    "collapsed": false,
    "deletable": true,
    "editable": true
   },
   "outputs": [],
   "source": [
    "import email"
   ]
  },
  {
   "cell_type": "code",
   "execution_count": 279,
   "metadata": {
    "collapsed": false
   },
   "outputs": [
    {
     "data": {
      "text/plain": [
       "'/media/sf_Windows/SPAM_ASSASSIN/HAM/easy_ham_2002/2475.8572d77868481d0fe409eedd8fa6d443'"
      ]
     },
     "execution_count": 279,
     "metadata": {},
     "output_type": "execute_result"
    }
   ],
   "source": [
    "ham_dir+ham_emails[0]+'/'+emails[0]"
   ]
  },
  {
   "cell_type": "code",
   "execution_count": 280,
   "metadata": {
    "collapsed": false,
    "deletable": true,
    "editable": true
   },
   "outputs": [],
   "source": [
    "f = open(ham_dir+ham_emails[0]+'/'+emails[0], 'r')\n",
    "msg = f.read()\n",
    "f.close()"
   ]
  },
  {
   "cell_type": "code",
   "execution_count": 229,
   "metadata": {
    "collapsed": false
   },
   "outputs": [],
   "source": [
    "content = results.get_payload()"
   ]
  },
  {
   "cell_type": "code",
   "execution_count": 233,
   "metadata": {
    "collapsed": false
   },
   "outputs": [
    {
     "data": {
      "text/plain": [
       "[<email.message.Message instance at 0x7f0afdb7a3f8>]"
      ]
     },
     "execution_count": 233,
     "metadata": {},
     "output_type": "execute_result"
    }
   ],
   "source": [
    "content[2].get_payload()"
   ]
  },
  {
   "cell_type": "code",
   "execution_count": 216,
   "metadata": {
    "collapsed": false
   },
   "outputs": [],
   "source": [
    "def processContent(content):\n",
    "    if type(content) != str:\n",
    "        message = [subContent.get_payload().split('\\n') for subContent in content]\n",
    "        return ' '.join(reduce(lambda x, y: x + y, message, []))\n",
    "    else: \n",
    "        return ' '.join(content.split('\\n'))"
   ]
  },
  {
   "cell_type": "code",
   "execution_count": 281,
   "metadata": {
    "collapsed": false,
    "deletable": true,
    "editable": true
   },
   "outputs": [],
   "source": [
    "from email.parser import Parser"
   ]
  },
  {
   "cell_type": "code",
   "execution_count": 282,
   "metadata": {
    "collapsed": true
   },
   "outputs": [],
   "source": [
    "results = Parser().parsestr(msg)"
   ]
  },
  {
   "cell_type": "code",
   "execution_count": 261,
   "metadata": {
    "collapsed": false,
    "scrolled": true
   },
   "outputs": [
    {
     "ename": "IndexError",
     "evalue": "list index out of range",
     "output_type": "error",
     "traceback": [
      "\u001b[0;31m---------------------------------------------------------------------------\u001b[0m",
      "\u001b[0;31mIndexError\u001b[0m                                Traceback (most recent call last)",
      "\u001b[0;32m<ipython-input-261-6304a95961e1>\u001b[0m in \u001b[0;36m<module>\u001b[0;34m()\u001b[0m\n\u001b[0;32m----> 1\u001b[0;31m \u001b[0mresults\u001b[0m\u001b[0;34m.\u001b[0m\u001b[0mget_payload\u001b[0m\u001b[0;34m(\u001b[0m\u001b[0;34m)\u001b[0m\u001b[0;34m[\u001b[0m\u001b[0;36m2\u001b[0m\u001b[0;34m]\u001b[0m\u001b[0;34m.\u001b[0m\u001b[0mget_payload\u001b[0m\u001b[0;34m(\u001b[0m\u001b[0;34m)\u001b[0m\u001b[0;34m[\u001b[0m\u001b[0;36m0\u001b[0m\u001b[0;34m]\u001b[0m\u001b[0;34m.\u001b[0m\u001b[0mget_payload\u001b[0m\u001b[0;34m(\u001b[0m\u001b[0;34m)\u001b[0m\u001b[0;34m.\u001b[0m\u001b[0mget_payload\u001b[0m\u001b[0;34m\u001b[0m\u001b[0m\n\u001b[0m",
      "\u001b[0;31mIndexError\u001b[0m: list index out of range"
     ]
    }
   ],
   "source": [
    "results.get_payload()[2].get_payload()[0].get_payload().get_payload"
   ]
  },
  {
   "cell_type": "code",
   "execution_count": 154,
   "metadata": {
    "collapsed": false
   },
   "outputs": [
    {
     "data": {
      "text/plain": [
       "2"
      ]
     },
     "execution_count": 154,
     "metadata": {},
     "output_type": "execute_result"
    }
   ],
   "source": [
    "len(b)"
   ]
  },
  {
   "cell_type": "code",
   "execution_count": 284,
   "metadata": {
    "collapsed": false
   },
   "outputs": [
    {
     "data": {
      "text/plain": [
       "'URL: http://www.newsisfree.com/click/-2,8653742,1440/\\nDate: Not supplied\\n\\nThe latest \"Red List\" adds 124 to the 11,000 endangered species around the \\nglobe - but also includes a stick insect revival\\n\\n\\n'"
      ]
     },
     "execution_count": 284,
     "metadata": {},
     "output_type": "execute_result"
    }
   ],
   "source": [
    "' '.join([i for i in walkMsg(results)])."
   ]
  },
  {
   "cell_type": "code",
   "execution_count": 316,
   "metadata": {
    "collapsed": false,
    "deletable": true,
    "editable": true
   },
   "outputs": [],
   "source": [
    "# extract the body of email\n",
    "def walkMsg(msg):\n",
    "    \"\"\"\n",
    "    Input: string of email\n",
    "    Output: body of email\n",
    "    \"\"\"\n",
    "    for part in msg.walk():\n",
    "        if part.get_content_type() == \"multipart/alternative\":\n",
    "            continue\n",
    "        yield part.get_payload(decode=1)\n",
    "# extract the information of email\n",
    "# still need some works to get number of cc and bcc\n",
    "def info_of_email(path,List_of_files,classification):\n",
    "    \"\"\"\n",
    "    Input: path, list of files name, classification(spam or ham)\n",
    "    Ourput: a list with info of email\n",
    "    \"\"\"\n",
    "    parser = Parser()\n",
    "    info = []\n",
    "    for files in List_of_files:\n",
    "        emailText =  open(path + files, 'rb').read()\n",
    "        email = parser.parsestr(emailText)\n",
    "        if email.get('cc') == None:\n",
    "            no_cc = 0\n",
    "        else:\n",
    "            no_cc = len(email.get('cc'))\n",
    "        if email.get(\"bcc\") == None:\n",
    "            no_bcc = 0\n",
    "        else:\n",
    "            no_bcc = len(email.get('bcc'))\n",
    "        Date = email.get(\"Date\")\n",
    "        special_chars = re.compile(r\"\\t\\n\\r\")\n",
    "        try:\n",
    "            Date = re.split(':|,| ',Date)\n",
    "            info.append([Date[4], Date[3], Date[2], Date[0], Date[5], email.get(\"From\"), \n",
    "                         email.get('To'), no_cc, no_bcc, \n",
    "                         str(email.get(\"Content-Type\")).split(\";\")[0],\n",
    "                         email.get('subject'), \n",
    "                         \" \".join([i for i in walkMsg(email) if \n",
    "                                   i != None]).replace(\"\\n\",\" \").replace(\"\\t\",\" \"),\n",
    "                         classification])\n",
    "        except:\n",
    "            info.append([[], [], [], [], [], email.get(\"From\"), \n",
    "                         email.get('To'), no_cc, no_bcc, \n",
    "                         str(email.get(\"Content-Type\")).split(\";\")[0],\n",
    "                         email.get('subject'), \n",
    "                         \" \".join([i for i in walkMsg(email) if \n",
    "                                   i != None]).replace(\"\\n\",\" \").replace(\"\\t\",\" \"),\n",
    "                         classification])\n",
    "    return info"
   ]
  },
  {
   "cell_type": "code",
   "execution_count": 317,
   "metadata": {
    "collapsed": false,
    "deletable": true,
    "editable": true
   },
   "outputs": [
    {
     "data": {
      "text/plain": [
       "'/media/sf_Windows/SPAM_ASSASSIN/HAM/easy_ham_2003/'"
      ]
     },
     "execution_count": 317,
     "metadata": {},
     "output_type": "execute_result"
    }
   ],
   "source": [
    "ham_dir+ham_folder+'/'"
   ]
  },
  {
   "cell_type": "code",
   "execution_count": 318,
   "metadata": {
    "collapsed": false,
    "deletable": true,
    "editable": true
   },
   "outputs": [],
   "source": [
    "ham_results = []\n",
    "for ham_folder in ham_emails:\n",
    "    emails = os.listdir(ham_dir+ham_folder)\n",
    "    results.append(info_of_email(ham_dir+ham_folder+'/',emails,'ham'))"
   ]
  },
  {
   "cell_type": "code",
   "execution_count": 319,
   "metadata": {
    "collapsed": false,
    "deletable": true,
    "editable": true
   },
   "outputs": [],
   "source": [
    "hamList = [pd.DataFrame(df,\n",
    "                      columns=['Year','Month','Day','Weekday',\"Hour\",\n",
    "                                'From','To','cc','bcc','Content_type','Subjects','Content','Classification'])for df in results]\n",
    "hamDF = pd.concat(hamList,ignore_index=True)"
   ]
  },
  {
   "cell_type": "code",
   "execution_count": 334,
   "metadata": {
    "collapsed": false
   },
   "outputs": [],
   "source": [
    "spam_results = []\n",
    "for spam_folder in spam_emails:\n",
    "    emails = os.listdir(spam_dir+spam_folder)\n",
    "    spam_results.append(info_of_email(spam_dir+spam_folder+'/',emails,'spam'))"
   ]
  },
  {
   "cell_type": "code",
   "execution_count": 336,
   "metadata": {
    "collapsed": false
   },
   "outputs": [],
   "source": [
    "spamList = [pd.DataFrame(df,\n",
    "                      columns=['Year','Month','Day','Weekday',\"Hour\",\n",
    "                                'From','To','cc','bcc','Content_type','Subjects','Content','Classification'])for df in spam_results]\n",
    "spamDF = pd.concat(spamList,ignore_index=True)"
   ]
  },
  {
   "cell_type": "code",
   "execution_count": 321,
   "metadata": {
    "collapsed": false
   },
   "outputs": [],
   "source": [
    "pd.options.display.max_colwidth = 1000"
   ]
  }
 ],
 "metadata": {
  "kernelspec": {
   "display_name": "Python 2",
   "language": "python",
   "name": "python2"
  },
  "language_info": {
   "codemirror_mode": {
    "name": "ipython",
    "version": 2
   },
   "file_extension": ".py",
   "mimetype": "text/x-python",
   "name": "python",
   "nbconvert_exporter": "python",
   "pygments_lexer": "ipython2",
   "version": "2.7.12"
  }
 },
 "nbformat": 4,
 "nbformat_minor": 2
}
