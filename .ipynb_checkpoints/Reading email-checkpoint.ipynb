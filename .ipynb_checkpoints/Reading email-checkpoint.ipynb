{
 "cells": [
  {
   "cell_type": "code",
   "execution_count": 1,
   "metadata": {
    "collapsed": true
   },
   "outputs": [],
   "source": [
    "import pandas as pd\n",
    "import numpy as np\n",
    "import email\n",
    "import os\n",
    "from email.parser import Parser\n",
    "import re"
   ]
  },
  {
   "cell_type": "code",
   "execution_count": 2,
   "metadata": {
    "collapsed": true
   },
   "outputs": [],
   "source": [
    "# extract the body of email\n",
    "def walkMsg(msg):\n",
    "    \"\"\"\n",
    "    Input: string of email\n",
    "    Output: body of email\n",
    "    \"\"\"\n",
    "    for part in msg.walk():\n",
    "        if part.get_content_type() == \"multipart/alternative\":\n",
    "            continue\n",
    "        yield part.get_payload(decode=1)"
   ]
  },
  {
   "cell_type": "code",
   "execution_count": 3,
   "metadata": {
    "collapsed": false
   },
   "outputs": [],
   "source": [
    "# extract the information of email\n",
    "# still need some works to get number of cc and bcc\n",
    "def info_of_email(path,List_of_files,classification):\n",
    "    \"\"\"\n",
    "    Input: path, list of files name, classification(spam or ham)\n",
    "    Ourput: a list with info of email\n",
    "    \"\"\"\n",
    "    parser = Parser()\n",
    "    info = []\n",
    "    for files in List_of_files:\n",
    "        emailText =  open(path + files, 'rb').read()\n",
    "        email = parser.parsestr(emailText)\n",
    "        if email.get('cc') == None:\n",
    "            no_cc = 0\n",
    "        else:\n",
    "            no_cc = len(email.get('cc'))\n",
    "        if email.get(\"bcc\") == None:\n",
    "            no_bcc = 0\n",
    "        else:\n",
    "            no_bcc = len(email.get('bcc'))\n",
    "        Date = email.get(\"Date\")\n",
    "        try:\n",
    "            Date = re.split(':|,| ',Date)\n",
    "            info.append([Date[4], Date[3], Date[2], Date[0], Date[5], email.get(\"From\"), \n",
    "                         email.get('To'), no_cc, no_bcc, \n",
    "                         str(email.get(\"Content-Type\")).split(\";\")[0],\n",
    "                         email.get('subject'), \" \".join([i for i in walkMsg(email) if i != None])])\n",
    "        except:\n",
    "            info.append([[], [], [], [], [], email.get(\"From\"), \n",
    "                         email.get('To'), no_cc, no_bcc, \n",
    "                         str(email.get(\"Content-Type\")).split(\";\")[0],\n",
    "                         email.get('subject'), \" \".join([i for i in walkMsg(email) if i != None]), classification])\n",
    "    return info"
   ]
  },
  {
   "cell_type": "code",
   "execution_count": 4,
   "metadata": {
    "collapsed": false
   },
   "outputs": [],
   "source": [
    "listing = os.listdir('./Spam_BG/')\n",
    "listing = [i for i in listing if i[-3:] == \"txt\"]\n",
    "email_df = pd.DataFrame(info_of_email('./Spam_BG/', listing, 'spam'),\n",
    "                       columns=['Year','Month','Day','Weekday',\"Hour\",\n",
    "                                'From','To','cc','bcc','Content_type','Subjects','Content','Classification'])"
   ]
  },
  {
   "cell_type": "code",
   "execution_count": 5,
   "metadata": {
    "collapsed": false
   },
   "outputs": [
    {
     "data": {
      "text/html": [
       "<div>\n",
       "<table border=\"1\" class=\"dataframe\">\n",
       "  <thead>\n",
       "    <tr style=\"text-align: right;\">\n",
       "      <th></th>\n",
       "      <th>Year</th>\n",
       "      <th>Month</th>\n",
       "      <th>Day</th>\n",
       "      <th>Weekday</th>\n",
       "      <th>Hour</th>\n",
       "      <th>From</th>\n",
       "      <th>To</th>\n",
       "      <th>cc</th>\n",
       "      <th>bcc</th>\n",
       "      <th>Content_type</th>\n",
       "      <th>Subjects</th>\n",
       "      <th>Content</th>\n",
       "      <th>Classification</th>\n",
       "    </tr>\n",
       "  </thead>\n",
       "  <tbody>\n",
       "    <tr>\n",
       "      <th>0</th>\n",
       "      <td>2004</td>\n",
       "      <td>Jul</td>\n",
       "      <td>31</td>\n",
       "      <td>Sat</td>\n",
       "      <td>12</td>\n",
       "      <td>\"Bertha \" &lt;Denny@mailbox.sk&gt;</td>\n",
       "      <td>rait@bruce-guenter.dyndns.org</td>\n",
       "      <td>0</td>\n",
       "      <td>0</td>\n",
       "      <td>multipart/alternative</td>\n",
       "      <td>Get it up and keep it up praecox</td>\n",
       "      <td>&lt;html&gt;&lt;head&gt;&lt;meta http-equiv=Content-Type cont...</td>\n",
       "      <td>None</td>\n",
       "    </tr>\n",
       "    <tr>\n",
       "      <th>1</th>\n",
       "      <td>2004</td>\n",
       "      <td>Jul</td>\n",
       "      <td>31</td>\n",
       "      <td>Sat</td>\n",
       "      <td>22</td>\n",
       "      <td>\"LZEDEMCNODQBEZQBOV@encryption.com\" &lt;Opal.Cham...</td>\n",
       "      <td>cvs@bruce-guenter.dyndns.org</td>\n",
       "      <td>29</td>\n",
       "      <td>0</td>\n",
       "      <td>multipart/alternative</td>\n",
       "      <td>Winner: $332573</td>\n",
       "      <td>&lt;html&gt;\\nYour [m]ortgage application was approv...</td>\n",
       "      <td>None</td>\n",
       "    </tr>\n",
       "    <tr>\n",
       "      <th>2</th>\n",
       "      <td>2004</td>\n",
       "      <td>Aug</td>\n",
       "      <td>01</td>\n",
       "      <td>Sun</td>\n",
       "      <td>01</td>\n",
       "      <td>Connie Wong &lt;tatypin@huhmail.com&gt;</td>\n",
       "      <td>Rait &lt;rait@bruce-guenter.dyndns.org&gt;</td>\n",
       "      <td>0</td>\n",
       "      <td>0</td>\n",
       "      <td>multipart/alternative</td>\n",
       "      <td>Need software? Click here.</td>\n",
       "      <td>TOP quality software:&lt;br&gt;&lt;br&gt;\\n&lt;b&gt;Special Offe...</td>\n",
       "      <td>None</td>\n",
       "    </tr>\n",
       "    <tr>\n",
       "      <th>3</th>\n",
       "      <td>2004</td>\n",
       "      <td>Jul</td>\n",
       "      <td>30</td>\n",
       "      <td>Fri</td>\n",
       "      <td>17</td>\n",
       "      <td>shark@promotions.com &lt;shark@promotions.com&gt;</td>\n",
       "      <td>\"bruceg@em.ca\" &lt;bruceg@em.ca&gt;</td>\n",
       "      <td>0</td>\n",
       "      <td>0</td>\n",
       "      <td>multipart/alternative</td>\n",
       "      <td>Loyalty Bonuses for Shark Casino Players!</td>\n",
       "      <td>\\n \\n \\n    \\n    \\n \\n  Featuring this weeken...</td>\n",
       "      <td>None</td>\n",
       "    </tr>\n",
       "    <tr>\n",
       "      <th>4</th>\n",
       "      <td>2004</td>\n",
       "      <td>Jul</td>\n",
       "      <td>31</td>\n",
       "      <td>Sat</td>\n",
       "      <td>06</td>\n",
       "      <td>\"Important! Search Engine Alert!\" &lt;rockwelldat...</td>\n",
       "      <td>\"Bruceg\" &lt;bruceg@em.ca&gt;</td>\n",
       "      <td>0</td>\n",
       "      <td>0</td>\n",
       "      <td>multipart/alternative</td>\n",
       "      <td>Your web site has dropped out of the Search En...</td>\n",
       "      <td>Rockwell Data Corp \\n\\nThis Email has been sen...</td>\n",
       "      <td>None</td>\n",
       "    </tr>\n",
       "  </tbody>\n",
       "</table>\n",
       "</div>"
      ],
      "text/plain": [
       "   Year Month Day Weekday Hour  \\\n",
       "0  2004   Jul  31     Sat   12   \n",
       "1  2004   Jul  31     Sat   22   \n",
       "2  2004   Aug  01     Sun   01   \n",
       "3  2004   Jul  30     Fri   17   \n",
       "4  2004   Jul  31     Sat   06   \n",
       "\n",
       "                                                From  \\\n",
       "0                       \"Bertha \" <Denny@mailbox.sk>   \n",
       "1  \"LZEDEMCNODQBEZQBOV@encryption.com\" <Opal.Cham...   \n",
       "2                  Connie Wong <tatypin@huhmail.com>   \n",
       "3        shark@promotions.com <shark@promotions.com>   \n",
       "4  \"Important! Search Engine Alert!\" <rockwelldat...   \n",
       "\n",
       "                                     To  cc  bcc           Content_type  \\\n",
       "0         rait@bruce-guenter.dyndns.org   0    0  multipart/alternative   \n",
       "1          cvs@bruce-guenter.dyndns.org  29    0  multipart/alternative   \n",
       "2  Rait <rait@bruce-guenter.dyndns.org>   0    0  multipart/alternative   \n",
       "3         \"bruceg@em.ca\" <bruceg@em.ca>   0    0  multipart/alternative   \n",
       "4               \"Bruceg\" <bruceg@em.ca>   0    0  multipart/alternative   \n",
       "\n",
       "                                            Subjects  \\\n",
       "0                   Get it up and keep it up praecox   \n",
       "1                                    Winner: $332573   \n",
       "2                         Need software? Click here.   \n",
       "3          Loyalty Bonuses for Shark Casino Players!   \n",
       "4  Your web site has dropped out of the Search En...   \n",
       "\n",
       "                                             Content Classification  \n",
       "0  <html><head><meta http-equiv=Content-Type cont...           None  \n",
       "1  <html>\\nYour [m]ortgage application was approv...           None  \n",
       "2  TOP quality software:<br><br>\\n<b>Special Offe...           None  \n",
       "3  \\n \\n \\n    \\n    \\n \\n  Featuring this weeken...           None  \n",
       "4  Rockwell Data Corp \\n\\nThis Email has been sen...           None  "
      ]
     },
     "execution_count": 5,
     "metadata": {},
     "output_type": "execute_result"
    }
   ],
   "source": [
    "email_df.head()"
   ]
  },
  {
   "cell_type": "code",
   "execution_count": 6,
   "metadata": {
    "collapsed": true
   },
   "outputs": [],
   "source": [
    "test = info_of_email('./Spam_BG/', listing, 'spam')[0]"
   ]
  },
  {
   "cell_type": "code",
   "execution_count": 7,
   "metadata": {
    "collapsed": false
   },
   "outputs": [
    {
     "data": {
      "text/plain": [
       "['2004',\n",
       " 'Jul',\n",
       " '31',\n",
       " 'Sat',\n",
       " '12',\n",
       " '\"Bertha \" <Denny@mailbox.sk>',\n",
       " 'rait@bruce-guenter.dyndns.org',\n",
       " 0,\n",
       " 0,\n",
       " 'multipart/alternative',\n",
       " 'Get it up and keep it up praecox',\n",
       " '<html><head><meta http-equiv=Content-Type content=\"text/html; charset=windows-1252\"><title>shakedown NEWSLETTER stop NEWS bushel ISSUE taffy</title><STYLE>body{font-family:verdana}td{font-family:verdana;FONT-SIZE:8pt}</STYLE></head><body bgcolor=#FFFFFF><div align=center><font size=+4>Discount<B>RX</B></font><font size=1><BR> High Quality Ge<IMG SRC=\"scrawny.gif\" height=\"2\" width=\"0\" border=\"0\">neric Medication | No Prescripti<IMG SRC=\"visor.gif\" height=\"2\" width=\"0\" border=\"0\">on Required</font><BR><BR><table width=500 border=0 cellpadding=5><tr><td colspan=4><B>Ge<IMG SRC=\"parrot.gif\" height=\"2\" width=\"0\" border=\"0\">neric Cial<IMG SRC=\"sidewalk.gif\" height=\"2\" width=\"0\" border=\"0\">is (Tadalaf<IMG SRC=\"ronnie.gif\" height=\"2\" width=\"0\" border=\"0\">il 20mg)</td></tr><tr><td bgcolor=#FCEAC6><B>Quantity</B></td><td bgcolor=#FCEAC6><B>Dosage</B></td><td bgcolor=#FCEAC6><B>Per Pill</B></td><td bgcolor=#FCEAC6><B>Price (USD)</B></td></tr><tr><td bgcolor=#F7F4E9>10 Pill Bottle</td><td bgcolor=#F7F4E9>Tad<IMG SRC=\"alex.gif\" height=\"2\" width=\"0\" border=\"0\">alafil 20mg</td><td bgcolor=#F7F4E9>$9.60</td><td bgcolor=#F7F4E9><B>&nbsp;&nbsp;$96</B> - <a href=http://www.disrxcount.com/index.php?id=113>O<IMG SRC=\"allegiant.gif\" height=\"2\" width=\"0\" border=\"0\">rder Now</a></td></tr><tr><td bgcolor=#F7F4E9>20 Pill Bottle</td><td bgcolor=#F7F4E9>Tadalafi<IMG SRC=\"pectoralis.gif\" height=\"2\" width=\"0\" border=\"0\">l 20mg</td><td bgcolor=#F7F4E9>$7.00</td><td bgcolor=#F7F4E9><B>$140</B> - <a href=http://www.disrxcount.com/index.php?id=113>Orde<IMG SRC=\"burglar.gif\" height=\"2\" width=\"0\" border=\"0\">r Now</a></td></tr><tr><td bgcolor=#F7F4E9>50 Pill Bottle</td><td bgcolor=#F7F4E9>Tadal<IMG SRC=\"galactose.gif\" height=\"2\" width=\"0\" border=\"0\">afil 20mg</td><td bgcolor=#F7F4E9>$5.70</td><td bgcolor=#F7F4E9><B>$285</B> - <a href=http://www.bookjohnson.com/index.php?id=113>Or<IMG SRC=\"toolsmith.gif\" height=\"2\" width=\"0\" border=\"0\">der Now</a></td></tr><tr><td bgcolor=#F7F4E9>90 Pill Bottle</td><td bgcolor=#F7F4E9>Tadalafi<IMG SRC=\"strontium.gif\" height=\"2\" width=\"0\" border=\"0\">l 20mg</td><td bgcolor=#F7F4E9>$5.20</td><td bgcolor=#F7F4E9><B>$469</B> - <a href=http://www.1fastshell.com/index.php?id=113>Or<IMG SRC=\"flack.gif\" height=\"2\" width=\"0\" border=\"0\">der Now</a></td></tr><tr><td bgcolor=#F7F4E9>120 Pill Bottle</td><td bgcolor=#F7F4E9>Tadalaf<IMG SRC=\"incaution.gif\" height=\"2\" width=\"0\" border=\"0\">il 20mg</td><td bgcolor=#F7F4E9>$5.00</td><td bgcolor=#F7F4E9><B>$600</B> - <a href=http://www.happyrxsale.com/index.php?id=113>O<IMG SRC=\"cardiod.gif\" height=\"2\" width=\"0\" border=\"0\">rder Now</a></td></tr><tr><td bgcolor=#F7F4E9>200 Pill Bottle</td><td bgcolor=#F7F4E9>Tadalaf<IMG SRC=\"edmonton.gif\" height=\"2\" width=\"0\" border=\"0\">il 20mg</td><td bgcolor=#F7F4E9>$4.80</td><td bgcolor=#F7F4E9><B>$960</B> - <a href=http://www.bookjohnson.com/index.php?id=113>Ord<IMG SRC=\"enviable.gif\" height=\"2\" width=\"0\" border=\"0\">er Now</a></td></tr><tr><td colspan=4><p align=justify>Erec<IMG SRC=\"breakfast.gif\" height=\"2\" width=\"0\" border=\"0\">tile Dys<IMG SRC=\"halve.gif\" height=\"2\" width=\"0\" border=\"0\">function is the inability to achieve or maintain an erection which affects many men. Erec<IMG SRC=\"inimitable.gif\" height=\"2\" width=\"0\" border=\"0\">tile dy<IMG SRC=\"prelude.gif\" height=\"2\" width=\"0\" border=\"0\">sfunction is more commonly known as impo<IMG SRC=\"forbid.gif\" height=\"2\" width=\"0\" border=\"0\">tence. It occurs when the nerves or blood vessels in the peni<IMG SRC=\"brassy.gif\" height=\"2\" width=\"0\" border=\"0\">s do not function properly. The reason for this could be either physiological (physical) or psychological (mental). In most cases, it is physical, and that\\'s when products such as Cial<IMG SRC=\"copious.gif\" height=\"2\" width=\"0\" border=\"0\">is can help. <a href=http://www.rx123discount.com/index.php?id=113>Cli<IMG SRC=\"preamble.gif\" height=\"2\" width=\"0\" border=\"0\">ck here to visit Dis<img src=eigenvector.gif height=2 width=0 border=0>countRX.</a><BR><BR> C<IMG SRC=\"amaze.gif\" height=\"2\" width=\"0\" border=\"0\">IALIS (Chemical name: T<IMG SRC=\"alton.gif\" height=\"2\" width=\"0\" border=\"0\">adalafil) is an anti-im<IMG SRC=\"conduce.gif\" height=\"2\" width=\"0\" border=\"0\">potence drug. It is a small yellow pill and is in a class of medication known as PDE<IMG SRC=\"deregulatory.gif\" height=\"2\" width=\"0\" border=\"0\">-5 inhibitors, which are used to treat ere<IMG SRC=\"barnstorm.gif\" height=\"2\" width=\"0\" border=\"0\">ctile dy<IMG SRC=\"synonym.gif\" height=\"2\" width=\"0\" border=\"0\">sfunction. Ciali<IMG SRC=\"intramolecular.gif\" height=\"2\" width=\"0\" border=\"0\">s acts like Viagr<IMG SRC=\"betty.gif\" height=\"2\" width=\"0\" border=\"0\">a by blocking an enzyme called Phosph<IMG SRC=\"possession.gif\" height=\"2\" width=\"0\" border=\"0\">odiester-5 (P<IMG SRC=\"debater.gif\" height=\"2\" width=\"0\" border=\"0\">DE-5). This helps the smooth muscles in the p<IMG SRC=\"leftover.gif\" height=\"2\" width=\"0\" border=\"0\">enis to relax and widen, which allows for more blood to enter. As a result, men suffering from im<IMG SRC=\"appreciable.gif\" height=\"2\" width=\"0\" border=\"0\">potence gain erecti<IMG SRC=\"charlotte.gif\" height=\"2\" width=\"0\" border=\"0\">ons faster, easier and for longer. <a href=http://www.rxgroup911.com/index.php?id=113>C<IMG SRC=\"sandra.gif\" height=\"2\" width=\"0\" border=\"0\">lick here to visit D<img src=acculturate.gif height=2 width=0 border=0>iscountRX.</a></p></td></tr><tr><td colspan=4><B>Gener<IMG SRC=\"slant.gif\" height=\"2\" width=\"0\" border=\"0\">ic Ciali<IMG SRC=\"contract.gif\" height=\"2\" width=\"0\" border=\"0\">s (Tadal<IMG SRC=\"proofread.gif\" height=\"2\" width=\"0\" border=\"0\">afil 20mg)</td></tr><tr><td bgcolor=#FCEAC6><B>Quantity</B></td><td bgcolor=#FCEAC6><B>Dosage</B></td><td bgcolor=#FCEAC6><B>Per Pill</B></td><td bgcolor=#FCEAC6><B>Price (USD)</B></td></tr><tr><td bgcolor=#F7F4E9>10 Pill Bottle</td><td bgcolor=#F7F4E9>Tadalaf<IMG SRC=\"introductory.gif\" height=\"2\" width=\"0\" border=\"0\">il 20mg</td><td bgcolor=#F7F4E9>$9.60</td><td bgcolor=#F7F4E9><B>&nbsp;&nbsp;$96</B> - <a href=http://www.rxgroup911.com/index.php?id=113>O<IMG SRC=\"intimate.gif\" height=\"2\" width=\"0\" border=\"0\">rder Now</a></td></tr><tr><td bgcolor=#F7F4E9>20 Pill Bottle</td><td bgcolor=#F7F4E9>T<IMG SRC=\"nelson.gif\" height=\"2\" width=\"0\" border=\"0\">adalafil 20mg</td><td bgcolor=#F7F4E9>$7.00</td><td bgcolor=#F7F4E9><B>$140</B> - <a href=http://www.happyrxsale.com/index.php?id=113>Orde<IMG SRC=\"chamberlain.gif\" height=\"2\" width=\"0\" border=\"0\">r Now</a></td></tr><tr><td bgcolor=#F7F4E9>50 Pill Bottle</td><td bgcolor=#F7F4E9>Tadalafi<IMG SRC=\"border.gif\" height=\"2\" width=\"0\" border=\"0\">l 20mg</td><td bgcolor=#F7F4E9>$5.70</td><td bgcolor=#F7F4E9><B>$285</B> - <a href=http://www.rx123discount.com/index.php?id=113>Or<IMG SRC=\"peridotite.gif\" height=\"2\" width=\"0\" border=\"0\">der Now</a></td></tr><tr><td bgcolor=#F7F4E9>90 Pill Bottle</td><td bgcolor=#F7F4E9>Tad<IMG SRC=\"benefit.gif\" height=\"2\" width=\"0\" border=\"0\">alafil 20mg</td><td bgcolor=#F7F4E9>$5.20</td><td bgcolor=#F7F4E9><B>$469</B> - <a href=http://www.happyrxsale.com/index.php?id=113>Ord<IMG SRC=\"exultation.gif\" height=\"2\" width=\"0\" border=\"0\">er Now</a></td></tr><tr><td bgcolor=#F7F4E9>120 Pill Bottle</td><td bgcolor=#F7F4E9>Tada<IMG SRC=\"laredo.gif\" height=\"2\" width=\"0\" border=\"0\">lafil 20mg</td><td bgcolor=#F7F4E9>$5.00</td><td bgcolor=#F7F4E9><B>$600</B> - <a href=http://www.rxgroup911.com/index.php?id=113>Ord<IMG SRC=\"hookup.gif\" height=\"2\" width=\"0\" border=\"0\">er Now</a></td></tr><tr><td bgcolor=#F7F4E9>200 Pill Bottle</td><td bgcolor=#F7F4E9>Tadal<IMG SRC=\"across.gif\" height=\"2\" width=\"0\" border=\"0\">afil 20mg</td><td bgcolor=#F7F4E9>$4.80</td><td bgcolor=#F7F4E9><B>$960</B> - <a href=http://www.rx123discount.com/index.php?id=113>Ord<IMG SRC=\"pension.gif\" height=\"2\" width=\"0\" border=\"0\">er Now</a></td></tr></table><BR><hr width=400><br> <font size=1>chess exploration fayetteville sonnet<BR> <A href=http://www.1fastshell.com/d/uout.php>Don\\'t want anymore</a> sixfold cezanne bathe<BR> gain byers chloride restaurateur</font></div></body></html>\\n']"
      ]
     },
     "execution_count": 7,
     "metadata": {},
     "output_type": "execute_result"
    }
   ],
   "source": [
    "test"
   ]
  },
  {
   "cell_type": "code",
   "execution_count": null,
   "metadata": {
    "collapsed": true
   },
   "outputs": [],
   "source": []
  }
 ],
 "metadata": {
  "anaconda-cloud": {},
  "kernelspec": {
   "display_name": "Python [default]",
   "language": "python",
   "name": "python2"
  },
  "language_info": {
   "codemirror_mode": {
    "name": "ipython",
    "version": 2
   },
   "file_extension": ".py",
   "mimetype": "text/x-python",
   "name": "python",
   "nbconvert_exporter": "python",
   "pygments_lexer": "ipython2",
   "version": "2.7.12"
  }
 },
 "nbformat": 4,
 "nbformat_minor": 1
}
