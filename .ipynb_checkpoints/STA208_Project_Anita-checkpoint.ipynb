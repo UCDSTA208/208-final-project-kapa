{
 "cells": [
  {
   "cell_type": "code",
   "execution_count": 3,
   "metadata": {
    "collapsed": false
   },
   "outputs": [
    {
     "ename": "IOError",
     "evalue": "[Errno 2] No such file or directory: 'trec07p/full/index'",
     "output_type": "error",
     "traceback": [
      "\u001b[0;31m---------------------------------------------------------------------------\u001b[0m",
      "\u001b[0;31mIOError\u001b[0m                                   Traceback (most recent call last)",
      "\u001b[0;32m<ipython-input-3-4ba74b85cfda>\u001b[0m in \u001b[0;36m<module>\u001b[0;34m()\u001b[0m\n\u001b[1;32m      7\u001b[0m \u001b[0;34m\u001b[0m\u001b[0m\n\u001b[1;32m      8\u001b[0m \u001b[0;31m#extract labels from TREC2007/full/ file lists\u001b[0m\u001b[0;34m\u001b[0m\u001b[0;34m\u001b[0m\u001b[0m\n\u001b[0;32m----> 9\u001b[0;31m \u001b[0;32mwith\u001b[0m \u001b[0mopen\u001b[0m\u001b[0;34m(\u001b[0m\u001b[0;34m'trec07p/full/index'\u001b[0m\u001b[0;34m,\u001b[0m \u001b[0;34m'r'\u001b[0m\u001b[0;34m)\u001b[0m \u001b[0;32mas\u001b[0m \u001b[0mifile\u001b[0m\u001b[0;34m:\u001b[0m\u001b[0;34m\u001b[0m\u001b[0m\n\u001b[0m\u001b[1;32m     10\u001b[0m     \u001b[0mraw_labels\u001b[0m \u001b[0;34m=\u001b[0m \u001b[0mifile\u001b[0m\u001b[0;34m.\u001b[0m\u001b[0mreadlines\u001b[0m\u001b[0;34m(\u001b[0m\u001b[0;34m)\u001b[0m\u001b[0;34m\u001b[0m\u001b[0m\n\u001b[1;32m     11\u001b[0m \u001b[0;34m\u001b[0m\u001b[0m\n",
      "\u001b[0;31mIOError\u001b[0m: [Errno 2] No such file or directory: 'trec07p/full/index'"
     ]
    }
   ],
   "source": [
    "import numpy as np\n",
    "import pandas as pd\n",
    "import string\n",
    "import email\n",
    "import os ##use this to traverse folders\n",
    "from email.parser import Parser\n",
    "\n",
    "#extract labels from TREC2007/full/ file lists\n",
    "with open('trec07p/full/index', 'r') as ifile:\n",
    "    raw_labels = ifile.readlines()\n",
    "\n",
    "#using file list to give labels and e-mail numbers\n",
    "\n",
    "categories = [i.split( )[0] for i in raw_labels]\n",
    "email_nums = [i.split(\".\")[-1][:-1] for i in raw_labels]\n",
    "labels = pd.Series(categories, index=email_nums)\n"
   ]
  },
  {
   "cell_type": "code",
   "execution_count": null,
   "metadata": {
    "collapsed": false
   },
   "outputs": [],
   "source": [
    "#reference from other place\n",
    "\n",
    "# parser = Parser()\n",
    "# corpus = []\n",
    "# for email_num in email_nums:\n",
    "#     filepath = 'trec07p/data/inmail.%s' % email_num\n",
    "\n",
    "#     with open(filepath, 'r',) as ifile:\n",
    "#         email = parser.parse(ifile)\n",
    "\n",
    "#     ## TODO also keep the subject header\n",
    "\n",
    "#     ## code and details from:\n",
    "#     ## https://stackoverflow.com/questions/17874360/python-how-to-parse-the-body-from-a-raw-email-given-that-raw-email-does-not/32840516#32840516\n",
    "#     if email.is_multipart():\n",
    "#         for part in email.walk():\n",
    "#             content_type = part.get_content_type()\n",
    "#             content_dispo = str(part.get('Content-Disposition'))\n",
    "\n",
    "#             # skip any text/plain (txt) attachments\n",
    "#             if content_type == 'text/plain' and 'attachment' not in content_dispo:\n",
    "#                 body = part.get_payload(decode=False)\n",
    "#                 break ## only keep the first email\n",
    "#     else:\n",
    "#         body = email.get_payload(decode=False)\n",
    "\n",
    "#     ## TODO strip html stuff ? or valuable features ?\n",
    "#     try:\n",
    "#         corpus.append((email_num, body))\n",
    "#     except NameError:\n",
    "#         pass\n",
    "\n",
    "# email_nums, corpus = zip(*corpus)"
   ]
  },
  {
   "cell_type": "code",
   "execution_count": null,
   "metadata": {
    "collapsed": false
   },
   "outputs": [],
   "source": [
    "# extract the body of email\n",
    "def walkMsg(msg):\n",
    "    \"\"\"\n",
    "    Input: string of email\n",
    "    Output: body of email\n",
    "    \"\"\"\n",
    "    for part in msg.walk():\n",
    "        if part.get_content_type() == \"multipart/alternative\":\n",
    "            continue\n",
    "        yield part.get_payload(decode=1)"
   ]
  },
  {
   "cell_type": "code",
   "execution_count": null,
   "metadata": {
    "collapsed": false
   },
   "outputs": [],
   "source": [
    "def info_of_email_2():\n",
    "    \"\"\"\n",
    "    Input: path, list of files name, classification(spam or ham)\n",
    "    Ourput: a list with info of email\n",
    "    \"\"\"\n",
    "    \n",
    "    parser = Parser()\n",
    "    info = []\n",
    "    for nums in range(len(categories)):\n",
    "        filepath = 'trec07p/data/inmail.%s' % email_nums[nums]\n",
    "        \n",
    "        with open(filepath, 'r',) as ifile:\n",
    "            email = parser.parse(ifile)\n",
    "            info.append([email.get(\"From\"), email.get('To'), email.get('cc'), email.get('bcc'), \n",
    "                         str(email.get(\"Content-Type\")).split(\";\")[0],\n",
    "                         email.get('subject'), \" \".join([i for i in walkMsg(email) if i != None]),categories[nums]])\n",
    "    return info"
   ]
  },
  {
   "cell_type": "code",
   "execution_count": 4,
   "metadata": {
    "collapsed": false
   },
   "outputs": [
    {
     "ename": "NameError",
     "evalue": "name 'info_of_email_2' is not defined",
     "output_type": "error",
     "traceback": [
      "\u001b[0;31m---------------------------------------------------------------------------\u001b[0m",
      "\u001b[0;31mNameError\u001b[0m                                 Traceback (most recent call last)",
      "\u001b[0;32m<ipython-input-4-642e3aebe155>\u001b[0m in \u001b[0;36m<module>\u001b[0;34m()\u001b[0m\n\u001b[0;32m----> 1\u001b[0;31m df = pd.DataFrame(info_of_email_2(),\n\u001b[0m\u001b[1;32m      2\u001b[0m                   columns=['From','To','cc','bcc','Content_type','Subjects','Content','Classification'])\n",
      "\u001b[0;31mNameError\u001b[0m: name 'info_of_email_2' is not defined"
     ]
    }
   ],
   "source": [
    "df = pd.DataFrame(info_of_email_2(),\n",
    "                  columns=['From','To','cc','bcc','Content_type','Subjects','Content','Classification'])"
   ]
  },
  {
   "cell_type": "code",
   "execution_count": null,
   "metadata": {
    "collapsed": true
   },
   "outputs": [],
   "source": [
    "df.head()"
   ]
  },
  {
   "cell_type": "code",
   "execution_count": null,
   "metadata": {
    "collapsed": false
   },
   "outputs": [],
   "source": [
    "##encode\n",
    "def robust_decode(bs):\n",
    "    '''Takes a byte string as param and convert it into a unicode one.\n",
    "First tries UTF8, and fallback to Latin1 if it fails'''\n",
    "    cr = None\n",
    "    try:\n",
    "        cr = bs.decode('utf8')\n",
    "    except UnicodeDecodeError:\n",
    "        cr = bs.decode('ISO-8859-1')\n",
    "    return cr\n",
    "df['Content'] =[robust_decode(i) for i in df['Content']]\n",
    "##remove newlines break/return\n",
    "df['Content']=[i.replace('\\n','').replace('\\r','').replace('\\t','') for i in df['Content']]"
   ]
  },
  {
   "cell_type": "code",
   "execution_count": null,
   "metadata": {
    "collapsed": true
   },
   "outputs": [],
   "source": [
    "##remove html tag\n",
    "#import lxml.html\n",
    "\n",
    "#df[['html' in i for i in df['Content_type']]]['Content'] = [lxml.html.fromstring(k).text_content() for k in df[['html' in i for i in df['Content_type']]]['Content']]"
   ]
  }
 ],
 "metadata": {
  "anaconda-cloud": {},
  "kernelspec": {
   "display_name": "Python 2",
   "language": "python",
   "name": "python2"
  },
  "language_info": {
   "codemirror_mode": {
    "name": "ipython",
    "version": 2
   },
   "file_extension": ".py",
   "mimetype": "text/x-python",
   "name": "python",
   "nbconvert_exporter": "python",
   "pygments_lexer": "ipython2",
   "version": "2.7.12"
  }
 },
 "nbformat": 4,
 "nbformat_minor": 2
}
