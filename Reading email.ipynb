{
 "cells": [
  {
   "cell_type": "code",
   "execution_count": 1,
   "metadata": {
    "collapsed": true
   },
   "outputs": [],
   "source": [
    "import pandas as pd\n",
    "import numpy as np\n",
    "import email\n",
    "import os\n",
    "from email.parser import Parser"
   ]
  },
  {
   "cell_type": "code",
   "execution_count": 2,
   "metadata": {
    "collapsed": true
   },
   "outputs": [],
   "source": [
    "# extract the body of email\n",
    "def walkMsg(msg):\n",
    "    \"\"\"\n",
    "    Input: string of email\n",
    "    Output: body of email\n",
    "    \"\"\"\n",
    "    for part in msg.walk():\n",
    "        if part.get_content_type() == \"multipart/alternative\":\n",
    "            continue\n",
    "        yield part.get_payload(decode=1)"
   ]
  },
  {
   "cell_type": "code",
   "execution_count": 3,
   "metadata": {
    "collapsed": false
   },
   "outputs": [],
   "source": [
    "# extract the information of email\n",
    "# still need some works to get number of cc and bcc\n",
    "def info_of_email(path,List_of_files,classification):\n",
    "    \"\"\"\n",
    "    Input: path, list of files name, classification(spam or ham)\n",
    "    Ourput: a list with info of email\n",
    "    \"\"\"\n",
    "    parser = Parser()\n",
    "    info = []\n",
    "    for files in List_of_files:\n",
    "        emailText =  open(path + files, 'rb').read()\n",
    "        email = parser.parsestr(emailText)\n",
    "        info.append([email.get(\"From\"), email.get('To'), email.get('cc'), email.get('bcc'), \n",
    "                     str(email.get(\"Content-Type\")).split(\";\")[0],\n",
    "                     email.get('subject'), \" \".join([i for i in walkMsg(email) if i != None]),classification])\n",
    "    return info"
   ]
  },
  {
   "cell_type": "code",
   "execution_count": 4,
   "metadata": {
    "collapsed": false
   },
   "outputs": [],
   "source": [
    "listing = os.listdir('./Ham_BG/')\n",
    "listing = [i for i in listing if i[-3:] == \"txt\"]\n",
    "email_df = pd.DataFrame(info_of_email('./Ham_BG/', listing, 'spam'),\n",
    "                       columns=['From','To','cc','bcc','Content_type','Subjects','Content','Classification'])"
   ]
  },
  {
   "cell_type": "code",
   "execution_count": 5,
   "metadata": {
    "collapsed": false
   },
   "outputs": [
    {
     "data": {
      "text/html": [
       "<div>\n",
       "<table border=\"1\" class=\"dataframe\">\n",
       "  <thead>\n",
       "    <tr style=\"text-align: right;\">\n",
       "      <th></th>\n",
       "      <th>From</th>\n",
       "      <th>To</th>\n",
       "      <th>cc</th>\n",
       "      <th>bcc</th>\n",
       "      <th>Content_type</th>\n",
       "      <th>Subjects</th>\n",
       "      <th>Content</th>\n",
       "      <th>Classification</th>\n",
       "    </tr>\n",
       "  </thead>\n",
       "  <tbody>\n",
       "    <tr>\n",
       "      <th>0</th>\n",
       "      <td>\"Bertha \" &lt;Denny@mailbox.sk&gt;</td>\n",
       "      <td>rait@bruce-guenter.dyndns.org</td>\n",
       "      <td>None</td>\n",
       "      <td>None</td>\n",
       "      <td>multipart/alternative</td>\n",
       "      <td>Get it up and keep it up praecox</td>\n",
       "      <td>&lt;html&gt;&lt;head&gt;&lt;meta http-equiv=Content-Type cont...</td>\n",
       "      <td>spam</td>\n",
       "    </tr>\n",
       "    <tr>\n",
       "      <th>1</th>\n",
       "      <td>\"LZEDEMCNODQBEZQBOV@encryption.com\" &lt;Opal.Cham...</td>\n",
       "      <td>cvs@bruce-guenter.dyndns.org</td>\n",
       "      <td>rait@bruce-guenter.dyndns.org</td>\n",
       "      <td>None</td>\n",
       "      <td>multipart/alternative</td>\n",
       "      <td>Winner: $332573</td>\n",
       "      <td>&lt;html&gt;\\nYour [m]ortgage application was approv...</td>\n",
       "      <td>spam</td>\n",
       "    </tr>\n",
       "    <tr>\n",
       "      <th>2</th>\n",
       "      <td>Connie Wong &lt;tatypin@huhmail.com&gt;</td>\n",
       "      <td>Rait &lt;rait@bruce-guenter.dyndns.org&gt;</td>\n",
       "      <td>None</td>\n",
       "      <td>None</td>\n",
       "      <td>multipart/alternative</td>\n",
       "      <td>Need software? Click here.</td>\n",
       "      <td>TOP quality software:&lt;br&gt;&lt;br&gt;\\n&lt;b&gt;Special Offe...</td>\n",
       "      <td>spam</td>\n",
       "    </tr>\n",
       "    <tr>\n",
       "      <th>3</th>\n",
       "      <td>shark@promotions.com &lt;shark@promotions.com&gt;</td>\n",
       "      <td>\"bruceg@em.ca\" &lt;bruceg@em.ca&gt;</td>\n",
       "      <td>None</td>\n",
       "      <td>None</td>\n",
       "      <td>multipart/alternative</td>\n",
       "      <td>Loyalty Bonuses for Shark Casino Players!</td>\n",
       "      <td>\\n \\n \\n    \\n    \\n \\n  Featuring this weeken...</td>\n",
       "      <td>spam</td>\n",
       "    </tr>\n",
       "    <tr>\n",
       "      <th>4</th>\n",
       "      <td>\"Important! Search Engine Alert!\" &lt;rockwelldat...</td>\n",
       "      <td>\"Bruceg\" &lt;bruceg@em.ca&gt;</td>\n",
       "      <td>None</td>\n",
       "      <td>None</td>\n",
       "      <td>multipart/alternative</td>\n",
       "      <td>Your web site has dropped out of the Search En...</td>\n",
       "      <td>Rockwell Data Corp \\n\\nThis Email has been sen...</td>\n",
       "      <td>spam</td>\n",
       "    </tr>\n",
       "  </tbody>\n",
       "</table>\n",
       "</div>"
      ],
      "text/plain": [
       "                                                From  \\\n",
       "0                       \"Bertha \" <Denny@mailbox.sk>   \n",
       "1  \"LZEDEMCNODQBEZQBOV@encryption.com\" <Opal.Cham...   \n",
       "2                  Connie Wong <tatypin@huhmail.com>   \n",
       "3        shark@promotions.com <shark@promotions.com>   \n",
       "4  \"Important! Search Engine Alert!\" <rockwelldat...   \n",
       "\n",
       "                                     To                             cc   bcc  \\\n",
       "0         rait@bruce-guenter.dyndns.org                           None  None   \n",
       "1          cvs@bruce-guenter.dyndns.org  rait@bruce-guenter.dyndns.org  None   \n",
       "2  Rait <rait@bruce-guenter.dyndns.org>                           None  None   \n",
       "3         \"bruceg@em.ca\" <bruceg@em.ca>                           None  None   \n",
       "4               \"Bruceg\" <bruceg@em.ca>                           None  None   \n",
       "\n",
       "            Content_type                                           Subjects  \\\n",
       "0  multipart/alternative                   Get it up and keep it up praecox   \n",
       "1  multipart/alternative                                    Winner: $332573   \n",
       "2  multipart/alternative                         Need software? Click here.   \n",
       "3  multipart/alternative          Loyalty Bonuses for Shark Casino Players!   \n",
       "4  multipart/alternative  Your web site has dropped out of the Search En...   \n",
       "\n",
       "                                             Content Classification  \n",
       "0  <html><head><meta http-equiv=Content-Type cont...           spam  \n",
       "1  <html>\\nYour [m]ortgage application was approv...           spam  \n",
       "2  TOP quality software:<br><br>\\n<b>Special Offe...           spam  \n",
       "3  \\n \\n \\n    \\n    \\n \\n  Featuring this weeken...           spam  \n",
       "4  Rockwell Data Corp \\n\\nThis Email has been sen...           spam  "
      ]
     },
     "execution_count": 5,
     "metadata": {},
     "output_type": "execute_result"
    }
   ],
   "source": [
    "email_df.head()"
   ]
  }
 ],
 "metadata": {
  "anaconda-cloud": {},
  "kernelspec": {
   "display_name": "Python [default]",
   "language": "python",
   "name": "python2"
  },
  "language_info": {
   "codemirror_mode": {
    "name": "ipython",
    "version": 2
   },
   "file_extension": ".py",
   "mimetype": "text/x-python",
   "name": "python",
   "nbconvert_exporter": "python",
   "pygments_lexer": "ipython2",
   "version": "2.7.12"
  }
 },
 "nbformat": 4,
 "nbformat_minor": 1
}
