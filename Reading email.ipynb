{
 "cells": [
  {
   "cell_type": "markdown",
   "metadata": {},
   "source": [
    "## Method to extract required infomation from email files"
   ]
  },
  {
   "cell_type": "code",
   "execution_count": 15,
   "metadata": {
    "collapsed": true
   },
   "outputs": [],
   "source": [
    "import pandas as pd\n",
    "import numpy as np\n",
    "import email\n",
    "import os\n",
    "from email.parser import Parser\n",
    "import re\n",
    "import lxml.html\n",
    "import collections\n",
    "import pickle"
   ]
  },
  {
   "cell_type": "code",
   "execution_count": 2,
   "metadata": {
    "collapsed": true
   },
   "outputs": [],
   "source": [
    "# extract the body of email\n",
    "def walkMsg(msg):\n",
    "    \"\"\"\n",
    "    Input: string of email\n",
    "    Output: body of email\n",
    "    \"\"\"\n",
    "    for part in msg.walk():\n",
    "        if part.get_content_type() == \"multipart/alternative\":\n",
    "            continue\n",
    "        yield part.get_payload(decode=1)"
   ]
  },
  {
   "cell_type": "code",
   "execution_count": 3,
   "metadata": {
    "collapsed": true
   },
   "outputs": [],
   "source": [
    "def robust_decode(bs):\n",
    "    '''Takes a byte string as param and convert it into a unicode one.\n",
    "First tries UTF8, and fallback to Latin1 if it fails'''\n",
    "    cr = None\n",
    "    try:\n",
    "        #cr = bs.decode('utf8')\n",
    "        cr = bs.decode('utf-8-sig')\n",
    "    except UnicodeDecodeError:\n",
    "        cr = bs.decode('ISO-8859-1')\n",
    "        cr = cr.encode(\"ascii\", \"ignore\")\n",
    "        #cr = cr.decode('utf-8-sig')\n",
    "    return cr\n",
    "#.replace(\"\\n\",\" \").replace(\"\\t\",\" \").replace(\"r\",\" \")"
   ]
  },
  {
   "cell_type": "code",
   "execution_count": 4,
   "metadata": {
    "collapsed": false
   },
   "outputs": [],
   "source": [
    "# extract the information of email\n",
    "# still need some works to get number of cc and bcc\n",
    "def info_of_email(path,List_of_files,classification):\n",
    "    \"\"\"\n",
    "    Input: path, list of files name, classification(spam or ham)\n",
    "    Ourput: a list with info of email\n",
    "    \"\"\"\n",
    "    parser = Parser()\n",
    "    info = []\n",
    "    for files in List_of_files:\n",
    "        emailText =  open(path + files, 'rb').read()\n",
    "        email = parser.parsestr(emailText)\n",
    "        if email.get('cc') == None:\n",
    "            no_cc = 0\n",
    "        else:\n",
    "            no_cc = len(email.get('cc'))\n",
    "        if email.get(\"bcc\") == None:\n",
    "            no_bcc = 0\n",
    "        else:\n",
    "            no_bcc = len(email.get('bcc'))\n",
    "        Date = email.get(\"Date\")\n",
    "\n",
    "        Content = \" \".join([robust_decode(i) for i in walkMsg(email) if i != None])\n",
    "        Content = ''.join(Content.splitlines())\n",
    "        Content = Content.replace(\"\\t\",\"\")\n",
    "        if 'html' in Content:\n",
    "            Content = lxml.html.fromstring(Content).text_content()\n",
    "        \n",
    "        try:\n",
    "            year = re.search('\\d{4}',Date).group(0)\n",
    "            hour = re.search('\\d{2}:\\d{2}:\\d{2}',Date).group(0).split(\":\")[0]\n",
    "            weekday = re.search('Mon|Tue|Wed|Thu|Fri|Sat|Sun',Date).group(0)\n",
    "            info.append([year, weekday, hour, email.get(\"From\"),email.get('To'), no_cc, no_bcc, \n",
    "                         str(email.get(\"Content-Type\")).split(\";\")[0].lower(),\n",
    "                         email.get('subject'), Content, classification])\n",
    "        except:\n",
    "            info.append([None, None, None, email.get(\"From\"), \n",
    "                         email.get('To'), no_cc, no_bcc, \n",
    "                         str(email.get(\"Content-Type\")).split(\";\")[0].lower(),\n",
    "                         email.get('subject'), Content, classification])\n",
    "    return info"
   ]
  },
  {
   "cell_type": "markdown",
   "metadata": {},
   "source": [
    "### Spam"
   ]
  },
  {
   "cell_type": "code",
   "execution_count": 5,
   "metadata": {
    "collapsed": false
   },
   "outputs": [],
   "source": [
    "listing = os.listdir('./Spam/')\n",
    "listing = [i for i in listing if i[-5:] != \"Store\"]\n",
    "email_df = pd.DataFrame(info_of_email('./Spam/', listing, 'spam'),\n",
    "                       columns=['Year','Weekday',\"Hour\",\n",
    "                                'From','To','cc','bcc','Content_type','Subjects','Content','Classification'])"
   ]
  },
  {
   "cell_type": "code",
   "execution_count": 6,
   "metadata": {
    "collapsed": false
   },
   "outputs": [
    {
     "data": {
      "text/html": [
       "<div>\n",
       "<table border=\"1\" class=\"dataframe\">\n",
       "  <thead>\n",
       "    <tr style=\"text-align: right;\">\n",
       "      <th></th>\n",
       "      <th>Year</th>\n",
       "      <th>Weekday</th>\n",
       "      <th>Hour</th>\n",
       "      <th>From</th>\n",
       "      <th>To</th>\n",
       "      <th>cc</th>\n",
       "      <th>bcc</th>\n",
       "      <th>Content_type</th>\n",
       "      <th>Subjects</th>\n",
       "      <th>Content</th>\n",
       "      <th>Classification</th>\n",
       "    </tr>\n",
       "  </thead>\n",
       "  <tbody>\n",
       "    <tr>\n",
       "      <th>31096</th>\n",
       "      <td>2002</td>\n",
       "      <td>Tue</td>\n",
       "      <td>18</td>\n",
       "      <td>\"IQ - TBA\" &lt;tba@insiq.us&gt;</td>\n",
       "      <td>&lt;yyyy@spamassassin.taint.org&gt;</td>\n",
       "      <td>0</td>\n",
       "      <td>0</td>\n",
       "      <td>multipart/alternative</td>\n",
       "      <td>Preferred Non-Smoker Rates for Smokers</td>\n",
       "      <td>Preferred Non-Smoker  Just what the doctor ord...</td>\n",
       "      <td>spam</td>\n",
       "    </tr>\n",
       "    <tr>\n",
       "      <th>31097</th>\n",
       "      <td>2003</td>\n",
       "      <td>Sun</td>\n",
       "      <td>16</td>\n",
       "      <td>Mike &lt;raye@yahoo.lv&gt;</td>\n",
       "      <td>Mailing.List@user2.pro-ns.net</td>\n",
       "      <td>0</td>\n",
       "      <td>0</td>\n",
       "      <td>text/plain</td>\n",
       "      <td>How to get 10,000 FREE hits per day to any web...</td>\n",
       "      <td>Dear Subscriber,If I could show you a way to g...</td>\n",
       "      <td>spam</td>\n",
       "    </tr>\n",
       "    <tr>\n",
       "      <th>31098</th>\n",
       "      <td>2020</td>\n",
       "      <td>Wed</td>\n",
       "      <td>04</td>\n",
       "      <td>\"Mr. Clean\" &lt;cweqx@dialix.oz.au&gt;</td>\n",
       "      <td>&lt;Undisclosed.Recipients@webnote.net&gt;</td>\n",
       "      <td>0</td>\n",
       "      <td>0</td>\n",
       "      <td>text/plain</td>\n",
       "      <td>Cannabis Difference</td>\n",
       "      <td>****Mid-Summer Customer Appreciation SALE!****...</td>\n",
       "      <td>spam</td>\n",
       "    </tr>\n",
       "    <tr>\n",
       "      <th>31099</th>\n",
       "      <td>2002</td>\n",
       "      <td>Wed</td>\n",
       "      <td>06</td>\n",
       "      <td>\"wilsonkamela400@netscape.net\" &lt;wilsonkamela50...</td>\n",
       "      <td>ilug@linux.ie</td>\n",
       "      <td>0</td>\n",
       "      <td>0</td>\n",
       "      <td>text/plain</td>\n",
       "      <td>[ILUG] WILSON  KAMELA</td>\n",
       "      <td>ATTN:SIR/MADAN                            STRI...</td>\n",
       "      <td>spam</td>\n",
       "    </tr>\n",
       "    <tr>\n",
       "      <th>31100</th>\n",
       "      <td>2005</td>\n",
       "      <td>Tue</td>\n",
       "      <td>09</td>\n",
       "      <td>\"Chia Patterson\" &lt;pkrebehenne@businessesinport...</td>\n",
       "      <td>projecthoneypot@projecthoneypot.org</td>\n",
       "      <td>0</td>\n",
       "      <td>0</td>\n",
       "      <td>text/html</td>\n",
       "      <td>Just to her...</td>\n",
       "      <td>SOFT Viagra at $1.62 per doseReady to boost yo...</td>\n",
       "      <td>spam</td>\n",
       "    </tr>\n",
       "  </tbody>\n",
       "</table>\n",
       "</div>"
      ],
      "text/plain": [
       "       Year Weekday Hour                                               From  \\\n",
       "31096  2002     Tue   18                          \"IQ - TBA\" <tba@insiq.us>   \n",
       "31097  2003     Sun   16                               Mike <raye@yahoo.lv>   \n",
       "31098  2020     Wed   04                   \"Mr. Clean\" <cweqx@dialix.oz.au>   \n",
       "31099  2002     Wed   06  \"wilsonkamela400@netscape.net\" <wilsonkamela50...   \n",
       "31100  2005     Tue   09  \"Chia Patterson\" <pkrebehenne@businessesinport...   \n",
       "\n",
       "                                         To  cc  bcc           Content_type  \\\n",
       "31096         <yyyy@spamassassin.taint.org>   0    0  multipart/alternative   \n",
       "31097         Mailing.List@user2.pro-ns.net   0    0             text/plain   \n",
       "31098  <Undisclosed.Recipients@webnote.net>   0    0             text/plain   \n",
       "31099                         ilug@linux.ie   0    0             text/plain   \n",
       "31100   projecthoneypot@projecthoneypot.org   0    0              text/html   \n",
       "\n",
       "                                                Subjects  \\\n",
       "31096             Preferred Non-Smoker Rates for Smokers   \n",
       "31097  How to get 10,000 FREE hits per day to any web...   \n",
       "31098                                Cannabis Difference   \n",
       "31099                              [ILUG] WILSON  KAMELA   \n",
       "31100                                     Just to her...   \n",
       "\n",
       "                                                 Content Classification  \n",
       "31096  Preferred Non-Smoker  Just what the doctor ord...           spam  \n",
       "31097  Dear Subscriber,If I could show you a way to g...           spam  \n",
       "31098  ****Mid-Summer Customer Appreciation SALE!****...           spam  \n",
       "31099  ATTN:SIR/MADAN                            STRI...           spam  \n",
       "31100  SOFT Viagra at $1.62 per doseReady to boost yo...           spam  "
      ]
     },
     "execution_count": 6,
     "metadata": {},
     "output_type": "execute_result"
    }
   ],
   "source": [
    "email_df.tail()"
   ]
  },
  {
   "cell_type": "code",
   "execution_count": 7,
   "metadata": {
    "collapsed": false
   },
   "outputs": [
    {
     "data": {
      "text/plain": [
       "(31101, 11)"
      ]
     },
     "execution_count": 7,
     "metadata": {},
     "output_type": "execute_result"
    }
   ],
   "source": [
    "email_df.shape"
   ]
  },
  {
   "cell_type": "markdown",
   "metadata": {
    "collapsed": false
   },
   "source": [
    "### Ham"
   ]
  },
  {
   "cell_type": "code",
   "execution_count": 8,
   "metadata": {
    "collapsed": false
   },
   "outputs": [],
   "source": [
    "path = './Ham/'\n",
    "direc = os.listdir(path)\n",
    "direc = [i for i in direc if i[-5:] != \"Store\"]"
   ]
  },
  {
   "cell_type": "code",
   "execution_count": 9,
   "metadata": {
    "collapsed": false
   },
   "outputs": [],
   "source": [
    "file_name = []\n",
    "for i in direc:\n",
    "    file_name.extend([path + i + \"/\" + f for f in os.listdir(path+i)])"
   ]
  },
  {
   "cell_type": "code",
   "execution_count": 10,
   "metadata": {
    "collapsed": false
   },
   "outputs": [],
   "source": [
    "ham_df = pd.DataFrame(info_of_email(\"\",file_name,\"ham\"),\n",
    "                      columns=['Year','Weekday',\"Hour\",\n",
    "                                'From','To','cc','bcc','Content_type','Subjects','Content','Classification'])"
   ]
  },
  {
   "cell_type": "code",
   "execution_count": 11,
   "metadata": {
    "collapsed": false
   },
   "outputs": [
    {
     "data": {
      "text/html": [
       "<div>\n",
       "<table border=\"1\" class=\"dataframe\">\n",
       "  <thead>\n",
       "    <tr style=\"text-align: right;\">\n",
       "      <th></th>\n",
       "      <th>Year</th>\n",
       "      <th>Weekday</th>\n",
       "      <th>Hour</th>\n",
       "      <th>From</th>\n",
       "      <th>To</th>\n",
       "      <th>cc</th>\n",
       "      <th>bcc</th>\n",
       "      <th>Content_type</th>\n",
       "      <th>Subjects</th>\n",
       "      <th>Content</th>\n",
       "      <th>Classification</th>\n",
       "    </tr>\n",
       "  </thead>\n",
       "  <tbody>\n",
       "    <tr>\n",
       "      <th>0</th>\n",
       "      <td>2001</td>\n",
       "      <td>Sun</td>\n",
       "      <td>12</td>\n",
       "      <td>no.address@enron.com</td>\n",
       "      <td>jeff.donahue@enron.com</td>\n",
       "      <td>24</td>\n",
       "      <td>24</td>\n",
       "      <td>text/plain</td>\n",
       "      <td>Asset Marketing/Corporate Development</td>\n",
       "      <td>Jeff,As we discussed, attached is a comprehens...</td>\n",
       "      <td>ham</td>\n",
       "    </tr>\n",
       "    <tr>\n",
       "      <th>1</th>\n",
       "      <td>2001</td>\n",
       "      <td>Thu</td>\n",
       "      <td>11</td>\n",
       "      <td>no.address@enron.com</td>\n",
       "      <td>m..presto@enron.com, mitch.robinson@enron.com,...</td>\n",
       "      <td>72</td>\n",
       "      <td>72</td>\n",
       "      <td>text/plain</td>\n",
       "      <td>RE: Conn. Coal Plants</td>\n",
       "      <td>Our research indicates that in 1998 Wisvest pa...</td>\n",
       "      <td>ham</td>\n",
       "    </tr>\n",
       "    <tr>\n",
       "      <th>2</th>\n",
       "      <td>2001</td>\n",
       "      <td>Mon</td>\n",
       "      <td>23</td>\n",
       "      <td>don.miller@enron.com</td>\n",
       "      <td>louise.kitchen@enron.com</td>\n",
       "      <td>0</td>\n",
       "      <td>0</td>\n",
       "      <td>text/plain</td>\n",
       "      <td>Peaker Update</td>\n",
       "      <td>Louise,At your earliest convenience, I need to...</td>\n",
       "      <td>ham</td>\n",
       "    </tr>\n",
       "    <tr>\n",
       "      <th>3</th>\n",
       "      <td>2001</td>\n",
       "      <td>Fri</td>\n",
       "      <td>18</td>\n",
       "      <td>don.miller@enron.com</td>\n",
       "      <td>louise.kitchen@enron.com</td>\n",
       "      <td>0</td>\n",
       "      <td>0</td>\n",
       "      <td>text/plain</td>\n",
       "      <td>Revised 1999 and 2000 Peaker Action Lists as o...</td>\n",
       "      <td>Louise,Attached are the Cinergy and Allegheny ...</td>\n",
       "      <td>ham</td>\n",
       "    </tr>\n",
       "    <tr>\n",
       "      <th>4</th>\n",
       "      <td>2001</td>\n",
       "      <td>Wed</td>\n",
       "      <td>12</td>\n",
       "      <td>no.address@enron.com</td>\n",
       "      <td>louise.kitchen@enron.com</td>\n",
       "      <td>0</td>\n",
       "      <td>0</td>\n",
       "      <td>text/plain</td>\n",
       "      <td>2001 Gain Calculation</td>\n",
       "      <td>Louise,Per your request.  Let me know if you h...</td>\n",
       "      <td>ham</td>\n",
       "    </tr>\n",
       "  </tbody>\n",
       "</table>\n",
       "</div>"
      ],
      "text/plain": [
       "   Year Weekday Hour                  From  \\\n",
       "0  2001     Sun   12  no.address@enron.com   \n",
       "1  2001     Thu   11  no.address@enron.com   \n",
       "2  2001     Mon   23  don.miller@enron.com   \n",
       "3  2001     Fri   18  don.miller@enron.com   \n",
       "4  2001     Wed   12  no.address@enron.com   \n",
       "\n",
       "                                                  To  cc  bcc Content_type  \\\n",
       "0                             jeff.donahue@enron.com  24   24   text/plain   \n",
       "1  m..presto@enron.com, mitch.robinson@enron.com,...  72   72   text/plain   \n",
       "2                           louise.kitchen@enron.com   0    0   text/plain   \n",
       "3                           louise.kitchen@enron.com   0    0   text/plain   \n",
       "4                           louise.kitchen@enron.com   0    0   text/plain   \n",
       "\n",
       "                                            Subjects  \\\n",
       "0              Asset Marketing/Corporate Development   \n",
       "1                              RE: Conn. Coal Plants   \n",
       "2                                      Peaker Update   \n",
       "3  Revised 1999 and 2000 Peaker Action Lists as o...   \n",
       "4                              2001 Gain Calculation   \n",
       "\n",
       "                                             Content Classification  \n",
       "0  Jeff,As we discussed, attached is a comprehens...            ham  \n",
       "1  Our research indicates that in 1998 Wisvest pa...            ham  \n",
       "2  Louise,At your earliest convenience, I need to...            ham  \n",
       "3  Louise,Attached are the Cinergy and Allegheny ...            ham  \n",
       "4  Louise,Per your request.  Let me know if you h...            ham  "
      ]
     },
     "execution_count": 11,
     "metadata": {},
     "output_type": "execute_result"
    }
   ],
   "source": [
    "ham_df.head()"
   ]
  },
  {
   "cell_type": "code",
   "execution_count": 12,
   "metadata": {
    "collapsed": false
   },
   "outputs": [
    {
     "data": {
      "text/plain": [
       "(18228, 11)"
      ]
     },
     "execution_count": 12,
     "metadata": {},
     "output_type": "execute_result"
    }
   ],
   "source": [
    "ham_df.shape"
   ]
  },
  {
   "cell_type": "markdown",
   "metadata": {},
   "source": [
    "### All Enron Email"
   ]
  },
  {
   "cell_type": "code",
   "execution_count": 13,
   "metadata": {
    "collapsed": false
   },
   "outputs": [],
   "source": [
    "enron_email = email_df.append(ham_df)"
   ]
  },
  {
   "cell_type": "code",
   "execution_count": 22,
   "metadata": {
    "collapsed": false
   },
   "outputs": [
    {
     "data": {
      "text/plain": [
       "Counter({None: 583,\n",
       "         '0102': 74,\n",
       "         '1969': 2,\n",
       "         '1980': 5,\n",
       "         '1987': 1,\n",
       "         '1996': 2,\n",
       "         '1997': 3,\n",
       "         '1998': 2,\n",
       "         '1999': 138,\n",
       "         '2000': 6861,\n",
       "         '2001': 9512,\n",
       "         '2002': 3539,\n",
       "         '2003': 463,\n",
       "         '2004': 11998,\n",
       "         '2005': 16053,\n",
       "         '2006': 17,\n",
       "         '2007': 1,\n",
       "         '2008': 1,\n",
       "         '2009': 1,\n",
       "         '2010': 1,\n",
       "         '2020': 3,\n",
       "         '2038': 68,\n",
       "         '2548': 1})"
      ]
     },
     "execution_count": 22,
     "metadata": {},
     "output_type": "execute_result"
    }
   ],
   "source": [
    "from collections import Counter\n",
    "Counter(enron_email['Year'])"
   ]
  },
  {
   "cell_type": "markdown",
   "metadata": {},
   "source": [
    "### Output the data as pickle file\n",
    "\n",
    "I choose to output the data in pickle because if output .csv file, we will face difficult when reading it with pd.read_csv"
   ]
  },
  {
   "cell_type": "code",
   "execution_count": 17,
   "metadata": {
    "collapsed": false
   },
   "outputs": [],
   "source": [
    "enron_email.to_pickle(\"enron_email.txt\")"
   ]
  },
  {
   "cell_type": "code",
   "execution_count": 18,
   "metadata": {
    "collapsed": false
   },
   "outputs": [],
   "source": [
    "enron_pickle = pickle.load(open(\"enron_email.txt\",\"rb\"))"
   ]
  },
  {
   "cell_type": "code",
   "execution_count": 19,
   "metadata": {
    "collapsed": false
   },
   "outputs": [
    {
     "data": {
      "text/html": [
       "<div>\n",
       "<table border=\"1\" class=\"dataframe\">\n",
       "  <thead>\n",
       "    <tr style=\"text-align: right;\">\n",
       "      <th></th>\n",
       "      <th>Year</th>\n",
       "      <th>Weekday</th>\n",
       "      <th>Hour</th>\n",
       "      <th>From</th>\n",
       "      <th>To</th>\n",
       "      <th>cc</th>\n",
       "      <th>bcc</th>\n",
       "      <th>Content_type</th>\n",
       "      <th>Subjects</th>\n",
       "      <th>Content</th>\n",
       "      <th>Classification</th>\n",
       "    </tr>\n",
       "  </thead>\n",
       "  <tbody>\n",
       "    <tr>\n",
       "      <th>0</th>\n",
       "      <td>2004</td>\n",
       "      <td>Sat</td>\n",
       "      <td>12</td>\n",
       "      <td>\"Bertha \" &lt;Denny@mailbox.sk&gt;</td>\n",
       "      <td>rait@bruce-guenter.dyndns.org</td>\n",
       "      <td>0</td>\n",
       "      <td>0</td>\n",
       "      <td>multipart/alternative</td>\n",
       "      <td>Get it up and keep it up praecox</td>\n",
       "      <td>shakedown NEWSLETTER stop NEWS bushel ISSUE ta...</td>\n",
       "      <td>spam</td>\n",
       "    </tr>\n",
       "    <tr>\n",
       "      <th>1</th>\n",
       "      <td>2004</td>\n",
       "      <td>Sat</td>\n",
       "      <td>22</td>\n",
       "      <td>\"LZEDEMCNODQBEZQBOV@encryption.com\" &lt;Opal.Cham...</td>\n",
       "      <td>cvs@bruce-guenter.dyndns.org</td>\n",
       "      <td>29</td>\n",
       "      <td>0</td>\n",
       "      <td>multipart/alternative</td>\n",
       "      <td>Winner: $332573</td>\n",
       "      <td>Your [m]ortgage application was approved.You a...</td>\n",
       "      <td>spam</td>\n",
       "    </tr>\n",
       "    <tr>\n",
       "      <th>2</th>\n",
       "      <td>2004</td>\n",
       "      <td>Sun</td>\n",
       "      <td>01</td>\n",
       "      <td>Connie Wong &lt;tatypin@huhmail.com&gt;</td>\n",
       "      <td>Rait &lt;rait@bruce-guenter.dyndns.org&gt;</td>\n",
       "      <td>0</td>\n",
       "      <td>0</td>\n",
       "      <td>multipart/alternative</td>\n",
       "      <td>Need software? Click here.</td>\n",
       "      <td>TOP quality software:&lt;br&gt;&lt;br&gt;&lt;b&gt;Special Offer ...</td>\n",
       "      <td>spam</td>\n",
       "    </tr>\n",
       "    <tr>\n",
       "      <th>3</th>\n",
       "      <td>2004</td>\n",
       "      <td>Fri</td>\n",
       "      <td>17</td>\n",
       "      <td>shark@promotions.com &lt;shark@promotions.com&gt;</td>\n",
       "      <td>\"bruceg@em.ca\" &lt;bruceg@em.ca&gt;</td>\n",
       "      <td>0</td>\n",
       "      <td>0</td>\n",
       "      <td>multipart/alternative</td>\n",
       "      <td>Loyalty Bonuses for Shark Casino Players!</td>\n",
       "      <td>Featuring this weekend20/20Buy one and the Sha...</td>\n",
       "      <td>spam</td>\n",
       "    </tr>\n",
       "    <tr>\n",
       "      <th>4</th>\n",
       "      <td>2004</td>\n",
       "      <td>Sat</td>\n",
       "      <td>06</td>\n",
       "      <td>\"Important! Search Engine Alert!\" &lt;rockwelldat...</td>\n",
       "      <td>\"Bruceg\" &lt;bruceg@em.ca&gt;</td>\n",
       "      <td>0</td>\n",
       "      <td>0</td>\n",
       "      <td>multipart/alternative</td>\n",
       "      <td>Your web site has dropped out of the Search En...</td>\n",
       "      <td>Rockwell Data Corp This Email has been sent to...</td>\n",
       "      <td>spam</td>\n",
       "    </tr>\n",
       "  </tbody>\n",
       "</table>\n",
       "</div>"
      ],
      "text/plain": [
       "   Year Weekday Hour                                               From  \\\n",
       "0  2004     Sat   12                       \"Bertha \" <Denny@mailbox.sk>   \n",
       "1  2004     Sat   22  \"LZEDEMCNODQBEZQBOV@encryption.com\" <Opal.Cham...   \n",
       "2  2004     Sun   01                  Connie Wong <tatypin@huhmail.com>   \n",
       "3  2004     Fri   17        shark@promotions.com <shark@promotions.com>   \n",
       "4  2004     Sat   06  \"Important! Search Engine Alert!\" <rockwelldat...   \n",
       "\n",
       "                                     To  cc  bcc           Content_type  \\\n",
       "0         rait@bruce-guenter.dyndns.org   0    0  multipart/alternative   \n",
       "1          cvs@bruce-guenter.dyndns.org  29    0  multipart/alternative   \n",
       "2  Rait <rait@bruce-guenter.dyndns.org>   0    0  multipart/alternative   \n",
       "3         \"bruceg@em.ca\" <bruceg@em.ca>   0    0  multipart/alternative   \n",
       "4               \"Bruceg\" <bruceg@em.ca>   0    0  multipart/alternative   \n",
       "\n",
       "                                            Subjects  \\\n",
       "0                   Get it up and keep it up praecox   \n",
       "1                                    Winner: $332573   \n",
       "2                         Need software? Click here.   \n",
       "3          Loyalty Bonuses for Shark Casino Players!   \n",
       "4  Your web site has dropped out of the Search En...   \n",
       "\n",
       "                                             Content Classification  \n",
       "0  shakedown NEWSLETTER stop NEWS bushel ISSUE ta...           spam  \n",
       "1  Your [m]ortgage application was approved.You a...           spam  \n",
       "2  TOP quality software:<br><br><b>Special Offer ...           spam  \n",
       "3  Featuring this weekend20/20Buy one and the Sha...           spam  \n",
       "4  Rockwell Data Corp This Email has been sent to...           spam  "
      ]
     },
     "execution_count": 19,
     "metadata": {},
     "output_type": "execute_result"
    }
   ],
   "source": [
    "enron_pickle.head()"
   ]
  }
 ],
 "metadata": {
  "anaconda-cloud": {},
  "kernelspec": {
   "display_name": "Python [default]",
   "language": "python",
   "name": "python2"
  },
  "language_info": {
   "codemirror_mode": {
    "name": "ipython",
    "version": 2
   },
   "file_extension": ".py",
   "mimetype": "text/x-python",
   "name": "python",
   "nbconvert_exporter": "python",
   "pygments_lexer": "ipython2",
   "version": "2.7.12"
  }
 },
 "nbformat": 4,
 "nbformat_minor": 1
}
