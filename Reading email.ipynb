{
 "cells": [
  {
   "cell_type": "code",
   "execution_count": 1,
   "metadata": {
    "collapsed": true
   },
   "outputs": [],
   "source": [
    "import pandas as pd\n",
    "import numpy as np\n",
    "import email\n",
    "import os\n",
    "from email.parser import Parser\n",
    "import re"
   ]
  },
  {
   "cell_type": "code",
   "execution_count": 2,
   "metadata": {
    "collapsed": true
   },
   "outputs": [],
   "source": [
    "# extract the body of email\n",
    "def walkMsg(msg):\n",
    "    \"\"\"\n",
    "    Input: string of email\n",
    "    Output: body of email\n",
    "    \"\"\"\n",
    "    for part in msg.walk():\n",
    "        if part.get_content_type() == \"multipart/alternative\":\n",
    "            continue\n",
    "        yield part.get_payload(decode=1)"
   ]
  },
  {
   "cell_type": "code",
   "execution_count": 60,
   "metadata": {
    "collapsed": false
   },
   "outputs": [],
   "source": [
    "# extract the information of email\n",
    "# still need some works to get number of cc and bcc\n",
    "def info_of_email(path,List_of_files,classification):\n",
    "    \"\"\"\n",
    "    Input: path, list of files name, classification(spam or ham)\n",
    "    Ourput: a list with info of email\n",
    "    \"\"\"\n",
    "    parser = Parser()\n",
    "    info = []\n",
    "    for files in List_of_files:\n",
    "        emailText =  open(path + files, 'rb').read()\n",
    "        email = parser.parsestr(emailText)\n",
    "        if email.get('cc') == None:\n",
    "            no_cc = 0\n",
    "        else:\n",
    "            no_cc = len(email.get('cc'))\n",
    "        if email.get(\"bcc\") == None:\n",
    "            no_bcc = 0\n",
    "        else:\n",
    "            no_bcc = len(email.get('bcc'))\n",
    "        Date = email.get(\"Date\")\n",
    "        special_chars = re.compile(r\"\\t\\n\\r\")\n",
    "        try:\n",
    "            Date = re.split(':|,| ',Date)\n",
    "            info.append([Date[4], Date[3], Date[2], Date[0], Date[5], email.get(\"From\"), \n",
    "                         email.get('To'), no_cc, no_bcc, \n",
    "                         str(email.get(\"Content-Type\")).split(\";\")[0],\n",
    "                         email.get('subject'), \n",
    "                         \" \".join([i for i in walkMsg(email) if i != None]).replace(\"\\n\",\" \").replace(\"\\t\",\" \").replace(\"r\",\" \"),\n",
    "                         classification])\n",
    "        except:\n",
    "            info.append([[], [], [], [], [], email.get(\"From\"), \n",
    "                         email.get('To'), no_cc, no_bcc, \n",
    "                         str(email.get(\"Content-Type\")).split(\";\")[0],\n",
    "                         email.get('subject'), \n",
    "                         \" \".join([i for i in walkMsg(email) if i != None]).replace(\"\\n\",\" \").replace(\"\\t\",\" \").replace(\"r\",\" \"),\n",
    "                         classification])\n",
    "    return info"
   ]
  },
  {
   "cell_type": "code",
   "execution_count": 61,
   "metadata": {
    "collapsed": false
   },
   "outputs": [],
   "source": [
    "listing = os.listdir('./Spam/')\n",
    "listing = [i for i in listing if i[-5:] != \"Store\"]\n",
    "email_df = pd.DataFrame(info_of_email('./Spam/', listing, 'spam'),\n",
    "                       columns=['Year','Month','Day','Weekday',\"Hour\",\n",
    "                                'From','To','cc','bcc','Content_type','Subjects','Content','Classification'])"
   ]
  },
  {
   "cell_type": "code",
   "execution_count": 62,
   "metadata": {
    "collapsed": false
   },
   "outputs": [
    {
     "data": {
      "text/html": [
       "<div>\n",
       "<table border=\"1\" class=\"dataframe\">\n",
       "  <thead>\n",
       "    <tr style=\"text-align: right;\">\n",
       "      <th></th>\n",
       "      <th>Year</th>\n",
       "      <th>Month</th>\n",
       "      <th>Day</th>\n",
       "      <th>Weekday</th>\n",
       "      <th>Hour</th>\n",
       "      <th>From</th>\n",
       "      <th>To</th>\n",
       "      <th>cc</th>\n",
       "      <th>bcc</th>\n",
       "      <th>Content_type</th>\n",
       "      <th>Subjects</th>\n",
       "      <th>Content</th>\n",
       "      <th>Classification</th>\n",
       "    </tr>\n",
       "  </thead>\n",
       "  <tbody>\n",
       "    <tr>\n",
       "      <th>31096</th>\n",
       "      <td>2002</td>\n",
       "      <td>Dec</td>\n",
       "      <td>3</td>\n",
       "      <td>Tue</td>\n",
       "      <td>18</td>\n",
       "      <td>\"IQ - TBA\" &lt;tba@insiq.us&gt;</td>\n",
       "      <td>&lt;yyyy@spamassassin.taint.org&gt;</td>\n",
       "      <td>0</td>\n",
       "      <td>0</td>\n",
       "      <td>multipart/alternative</td>\n",
       "      <td>Preferred Non-Smoker Rates for Smokers</td>\n",
       "      <td>P efe  ed Non-Smoke      Just what the doct...</td>\n",
       "      <td>spam</td>\n",
       "    </tr>\n",
       "    <tr>\n",
       "      <th>31097</th>\n",
       "      <td>2003</td>\n",
       "      <td>Jul</td>\n",
       "      <td>20</td>\n",
       "      <td>Sun</td>\n",
       "      <td>16</td>\n",
       "      <td>Mike &lt;raye@yahoo.lv&gt;</td>\n",
       "      <td>Mailing.List@user2.pro-ns.net</td>\n",
       "      <td>0</td>\n",
       "      <td>0</td>\n",
       "      <td>text/plain</td>\n",
       "      <td>How to get 10,000 FREE hits per day to any web...</td>\n",
       "      <td>Dea  Subsc ibe ,  If I could show you a way to...</td>\n",
       "      <td>spam</td>\n",
       "    </tr>\n",
       "    <tr>\n",
       "      <th>31098</th>\n",
       "      <td>2020</td>\n",
       "      <td>Aug</td>\n",
       "      <td>05</td>\n",
       "      <td>Wed</td>\n",
       "      <td>04</td>\n",
       "      <td>\"Mr. Clean\" &lt;cweqx@dialix.oz.au&gt;</td>\n",
       "      <td>&lt;Undisclosed.Recipients@webnote.net&gt;</td>\n",
       "      <td>0</td>\n",
       "      <td>0</td>\n",
       "      <td>text/plain</td>\n",
       "      <td>Cannabis Difference</td>\n",
       "      <td>****Mid-Summe  Custome  App eciation SALE!****...</td>\n",
       "      <td>spam</td>\n",
       "    </tr>\n",
       "    <tr>\n",
       "      <th>31099</th>\n",
       "      <td>2002</td>\n",
       "      <td>Dec</td>\n",
       "      <td>04</td>\n",
       "      <td>Wed</td>\n",
       "      <td>06</td>\n",
       "      <td>\"wilsonkamela400@netscape.net\" &lt;wilsonkamela50...</td>\n",
       "      <td>ilug@linux.ie</td>\n",
       "      <td>0</td>\n",
       "      <td>0</td>\n",
       "      <td>text/plain</td>\n",
       "      <td>[ILUG] WILSON  KAMELA</td>\n",
       "      <td>ATTN:SIR/MADAN                              ST...</td>\n",
       "      <td>spam</td>\n",
       "    </tr>\n",
       "    <tr>\n",
       "      <th>31100</th>\n",
       "      <td>2005</td>\n",
       "      <td>Jul</td>\n",
       "      <td>05</td>\n",
       "      <td>Tue</td>\n",
       "      <td>09</td>\n",
       "      <td>\"Chia Patterson\" &lt;pkrebehenne@businessesinport...</td>\n",
       "      <td>projecthoneypot@projecthoneypot.org</td>\n",
       "      <td>0</td>\n",
       "      <td>0</td>\n",
       "      <td>text/html</td>\n",
       "      <td>Just to her...</td>\n",
       "      <td>&lt;html&gt; &lt;body alink=\"blue\" bgcolo =\"white\" link...</td>\n",
       "      <td>spam</td>\n",
       "    </tr>\n",
       "  </tbody>\n",
       "</table>\n",
       "</div>"
      ],
      "text/plain": [
       "       Year Month Day Weekday Hour  \\\n",
       "31096  2002   Dec   3     Tue   18   \n",
       "31097  2003   Jul  20     Sun   16   \n",
       "31098  2020   Aug  05     Wed   04   \n",
       "31099  2002   Dec  04     Wed   06   \n",
       "31100  2005   Jul  05     Tue   09   \n",
       "\n",
       "                                                    From  \\\n",
       "31096                          \"IQ - TBA\" <tba@insiq.us>   \n",
       "31097                               Mike <raye@yahoo.lv>   \n",
       "31098                   \"Mr. Clean\" <cweqx@dialix.oz.au>   \n",
       "31099  \"wilsonkamela400@netscape.net\" <wilsonkamela50...   \n",
       "31100  \"Chia Patterson\" <pkrebehenne@businessesinport...   \n",
       "\n",
       "                                         To  cc  bcc           Content_type  \\\n",
       "31096         <yyyy@spamassassin.taint.org>   0    0  multipart/alternative   \n",
       "31097         Mailing.List@user2.pro-ns.net   0    0             text/plain   \n",
       "31098  <Undisclosed.Recipients@webnote.net>   0    0             text/plain   \n",
       "31099                         ilug@linux.ie   0    0             text/plain   \n",
       "31100   projecthoneypot@projecthoneypot.org   0    0              text/html   \n",
       "\n",
       "                                                Subjects  \\\n",
       "31096             Preferred Non-Smoker Rates for Smokers   \n",
       "31097  How to get 10,000 FREE hits per day to any web...   \n",
       "31098                                Cannabis Difference   \n",
       "31099                              [ILUG] WILSON  KAMELA   \n",
       "31100                                     Just to her...   \n",
       "\n",
       "                                                 Content Classification  \n",
       "31096     P efe  ed Non-Smoke      Just what the doct...           spam  \n",
       "31097  Dea  Subsc ibe ,  If I could show you a way to...           spam  \n",
       "31098  ****Mid-Summe  Custome  App eciation SALE!****...           spam  \n",
       "31099  ATTN:SIR/MADAN                              ST...           spam  \n",
       "31100  <html> <body alink=\"blue\" bgcolo =\"white\" link...           spam  "
      ]
     },
     "execution_count": 62,
     "metadata": {},
     "output_type": "execute_result"
    }
   ],
   "source": [
    "email_df.tail()"
   ]
  },
  {
   "cell_type": "code",
   "execution_count": 43,
   "metadata": {
    "collapsed": false
   },
   "outputs": [
    {
     "data": {
      "text/plain": [
       "(31101, 13)"
      ]
     },
     "execution_count": 43,
     "metadata": {},
     "output_type": "execute_result"
    }
   ],
   "source": [
    "email_df.shape"
   ]
  },
  {
   "cell_type": "code",
   "execution_count": 45,
   "metadata": {
    "collapsed": false
   },
   "outputs": [
    {
     "data": {
      "text/plain": [
       "'\"Bertha \" <Denny@mailbox.sk>'"
      ]
     },
     "execution_count": 45,
     "metadata": {},
     "output_type": "execute_result"
    }
   ],
   "source": [
    "sender = email_df.iloc[0,5]\n",
    "sender"
   ]
  },
  {
   "cell_type": "code",
   "execution_count": 64,
   "metadata": {
    "collapsed": false
   },
   "outputs": [
    {
     "data": {
      "text/plain": [
       "'\"Bertha \" <Denny@mailbox.sk>'"
      ]
     },
     "execution_count": 64,
     "metadata": {},
     "output_type": "execute_result"
    }
   ],
   "source": [
    "re.findall('.+@.+',sender)[0]"
   ]
  },
  {
   "cell_type": "code",
   "execution_count": 63,
   "metadata": {
    "collapsed": false
   },
   "outputs": [
    {
     "data": {
      "text/plain": [
       "0                          \"Bertha \" <Denny@mailbox.sk>\n",
       "1     \"LZEDEMCNODQBEZQBOV@encryption.com\" <Opal.Cham...\n",
       "2                     Connie Wong <tatypin@huhmail.com>\n",
       "3           shark@promotions.com <shark@promotions.com>\n",
       "4     \"Important! Search Engine Alert!\" <rockwelldat...\n",
       "5                 \"Louis Henrietta\" <ndqpgk4ug@ioc.net>\n",
       "6                       \"Infor Info\" <infor_123@ozu.es>\n",
       "7             \"Roberto Lange\" <xaotljzjaho@hotmail.com>\n",
       "8             \"Harriet Mcgee\" <therein2@pinghetang.com>\n",
       "9       \"Brian_loebig\" <Jikkloscapegoat@africamail.com>\n",
       "10    \"Corey Hernandez\" <ifekyc@highperformancemail....\n",
       "11                     \"Steven\" <gatewnq@optonline.net>\n",
       "12                             \"James\" <gatewgt@rr.com>\n",
       "13                                blh0002@aarhusmail.dk\n",
       "14                    \"Bruce\" <summerrelishes@mail.com>\n",
       "15                           rollinsbc@to-pornostarz.de\n",
       "16    \"Valarie Richardson\" <valarierichardson_to@hel...\n",
       "17          investment consultant <zdywib@hushmail.com>\n",
       "18    \"Martins Livraria\" <lancamentos@martinscoml.co...\n",
       "19               \"Willis Beach\" <SWYBDDUDTLM@yahoo.com>\n",
       "Name: From, dtype: object"
      ]
     },
     "execution_count": 63,
     "metadata": {},
     "output_type": "execute_result"
    }
   ],
   "source": [
    "email_df.iloc[:20,5]"
   ]
  },
  {
   "cell_type": "code",
   "execution_count": null,
   "metadata": {
    "collapsed": true
   },
   "outputs": [],
   "source": []
  }
 ],
 "metadata": {
  "anaconda-cloud": {},
  "kernelspec": {
   "display_name": "Python [default]",
   "language": "python",
   "name": "python2"
  },
  "language_info": {
   "codemirror_mode": {
    "name": "ipython",
    "version": 2
   },
   "file_extension": ".py",
   "mimetype": "text/x-python",
   "name": "python",
   "nbconvert_exporter": "python",
   "pygments_lexer": "ipython2",
   "version": "2.7.12"
  }
 },
 "nbformat": 4,
 "nbformat_minor": 1
}
