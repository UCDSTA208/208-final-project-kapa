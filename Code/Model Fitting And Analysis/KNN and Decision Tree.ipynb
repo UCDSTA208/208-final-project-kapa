{
 "cells": [
  {
   "cell_type": "markdown",
   "metadata": {},
   "source": [
    "### Set up"
   ]
  },
  {
   "cell_type": "code",
   "execution_count": 1,
   "metadata": {
    "collapsed": false
   },
   "outputs": [
    {
     "name": "stderr",
     "output_type": "stream",
     "text": [
      "/Users/alice/anaconda/lib/python2.7/site-packages/sklearn/cross_validation.py:44: DeprecationWarning: This module was deprecated in version 0.18 in favor of the model_selection module into which all the refactored classes and functions are moved. Also note that the interface of the new CV iterators are different from that of this module. This module will be removed in 0.20.\n",
      "  \"This module will be removed in 0.20.\", DeprecationWarning)\n"
     ]
    }
   ],
   "source": [
    "import pickle\n",
    "from sklearn.feature_extraction.text import CountVectorizer\n",
    "from sklearn.model_selection import train_test_split\n",
    "from sklearn.feature_extraction.text import TfidfTransformer\n",
    "import pandas as pd\n",
    "from wordcloud import WordCloud\n",
    "import collections \n",
    "from matplotlib import pyplot as plt\n",
    "from matplotlib.colors import Normalize\n",
    "import matplotlib\n",
    "import time\n",
    "\n",
    "from sklearn.svm import SVC\n",
    "from sklearn.svm import LinearSVC\n",
    "\n",
    "from sklearn.preprocessing import StandardScaler\n",
    "from sklearn import cross_validation\n",
    "from sklearn.cluster import KMeans\n",
    "import sklearn.linear_model as skl_lm\n",
    "from sklearn.metrics import confusion_matrix, classification_report, precision_recall_curve, roc_curve\n",
    "import seaborn as sns\n",
    "from sklearn import metrics\n",
    "from sklearn.metrics import average_precision_score\n",
    "from sklearn.multiclass import OneVsRestClassifier\n",
    "from sklearn import svm\n",
    "import numpy as np\n",
    "from sklearn.pipeline import Pipeline\n",
    "from sklearn.metrics import confusion_matrix\n",
    "from sklearn.decomposition import TruncatedSVD\n",
    "plt.style.use('ggplot')"
   ]
  },
  {
   "cell_type": "code",
   "execution_count": 2,
   "metadata": {
    "collapsed": false
   },
   "outputs": [],
   "source": [
    "data = pickle.load(open(\"All_email.txt\",\"rb\"))"
   ]
  },
  {
   "cell_type": "markdown",
   "metadata": {},
   "source": [
    "### Seperate to training /test data"
   ]
  },
  {
   "cell_type": "code",
   "execution_count": 3,
   "metadata": {
    "collapsed": false
   },
   "outputs": [],
   "source": [
    "#Seperate to training data/test data\n",
    "train, test = train_test_split(data, test_size = 0.3, random_state=0)"
   ]
  },
  {
   "cell_type": "markdown",
   "metadata": {},
   "source": [
    "### Plots"
   ]
  },
  {
   "cell_type": "code",
   "execution_count": 112,
   "metadata": {
    "collapsed": false
   },
   "outputs": [
    {
     "data": {
      "text/plain": [
       "(159881, 12)"
      ]
     },
     "execution_count": 112,
     "metadata": {},
     "output_type": "execute_result"
    }
   ],
   "source": [
    "data.shape"
   ]
  },
  {
   "cell_type": "code",
   "execution_count": 105,
   "metadata": {
    "collapsed": false
   },
   "outputs": [
    {
     "data": {
      "text/html": [
       "<div>\n",
       "<table border=\"1\" class=\"dataframe\">\n",
       "  <thead>\n",
       "    <tr style=\"text-align: right;\">\n",
       "      <th></th>\n",
       "      <th>ham</th>\n",
       "      <th>spam</th>\n",
       "    </tr>\n",
       "  </thead>\n",
       "  <tbody>\n",
       "    <tr>\n",
       "      <th>1999</th>\n",
       "      <td>0.392410</td>\n",
       "      <td>0.607590</td>\n",
       "    </tr>\n",
       "    <tr>\n",
       "      <th>2000</th>\n",
       "      <td>0.749098</td>\n",
       "      <td>0.250902</td>\n",
       "    </tr>\n",
       "    <tr>\n",
       "      <th>2001</th>\n",
       "      <td>0.920896</td>\n",
       "      <td>0.079104</td>\n",
       "    </tr>\n",
       "    <tr>\n",
       "      <th>2002</th>\n",
       "      <td>0.668820</td>\n",
       "      <td>0.331180</td>\n",
       "    </tr>\n",
       "    <tr>\n",
       "      <th>2003</th>\n",
       "      <td>0.235116</td>\n",
       "      <td>0.764884</td>\n",
       "    </tr>\n",
       "    <tr>\n",
       "      <th>2004</th>\n",
       "      <td>0.044636</td>\n",
       "      <td>0.955364</td>\n",
       "    </tr>\n",
       "    <tr>\n",
       "      <th>2005</th>\n",
       "      <td>0.066356</td>\n",
       "      <td>0.933644</td>\n",
       "    </tr>\n",
       "    <tr>\n",
       "      <th>2006</th>\n",
       "      <td>0.309909</td>\n",
       "      <td>0.690091</td>\n",
       "    </tr>\n",
       "    <tr>\n",
       "      <th>2007</th>\n",
       "      <td>0.339796</td>\n",
       "      <td>0.660204</td>\n",
       "    </tr>\n",
       "  </tbody>\n",
       "</table>\n",
       "</div>"
      ],
      "text/plain": [
       "           ham      spam\n",
       "1999  0.392410  0.607590\n",
       "2000  0.749098  0.250902\n",
       "2001  0.920896  0.079104\n",
       "2002  0.668820  0.331180\n",
       "2003  0.235116  0.764884\n",
       "2004  0.044636  0.955364\n",
       "2005  0.066356  0.933644\n",
       "2006  0.309909  0.690091\n",
       "2007  0.339796  0.660204"
      ]
     },
     "execution_count": 105,
     "metadata": {},
     "output_type": "execute_result"
    }
   ],
   "source": [
    "year_count = []\n",
    "for i in ['1999','2000','2001','2002','2003','2004','2005','2006','2007']:\n",
    "          c=collections.Counter(data[data['Year']==i]['Classification'])\n",
    "          year_count.append(c)\n",
    "year_count = pd.DataFrame(year_count,index=['1999','2000','2001','2002','2003','2004','2005','2006','2007'])\n",
    "\n",
    "year_rate = pd.DataFrame({'ham' : year_count['ham']/year_count.sum(axis=1),\n",
    "                          'spam' : 1- year_count['ham']/year_count.sum(axis=1)})\n",
    "\n",
    "year_rate"
   ]
  },
  {
   "cell_type": "code",
   "execution_count": 106,
   "metadata": {
    "collapsed": false
   },
   "outputs": [],
   "source": [
    "year_count.reset_index(level=0, inplace=True)\n",
    "year_count = pd.melt(year_count,id_vars=['index'], value_vars=['ham', 'spam'])\n",
    "year_count.columns = [\"Year\",\"Type\",\"Count\"]"
   ]
  },
  {
   "cell_type": "code",
   "execution_count": 111,
   "metadata": {
    "collapsed": false
   },
   "outputs": [
    {
     "data": {
      "image/png": "[encoded data removed]",
      "text/plain": [
       "<matplotlib.figure.Figure at 0x11ccbda90>"
      ]
     },
     "metadata": {},
     "output_type": "display_data"
    }
   ],
   "source": [
    "import seaborn as sns\n",
    "sns.barplot(x='Year', y='Count',  hue='Type', data = year_count)\n",
    "plt.ylabel(\"Count\")\n",
    "plt.xlabel(\"Year\")\n",
    "plt.tight_layout()\n",
    "plt.savefig(\"Email_count_each_year.png\")\n",
    "plt.show()"
   ]
  },
  {
   "cell_type": "code",
   "execution_count": 56,
   "metadata": {
    "collapsed": false
   },
   "outputs": [
    {
     "data": {
      "image/png": "[encoded data removed]",
      "text/plain": [
       "<matplotlib.figure.Figure at 0x214586490>"
      ]
     },
     "metadata": {},
     "output_type": "display_data"
    }
   ],
   "source": [
    "hour_count = []\n",
    "hour  = ['00','01','02','03','04','05','06','07','08','09','10','11',\n",
    "         '12','13','14','15','16','17','18','19','20','21','22','23']\n",
    "for i in hour :\n",
    "          c=collections.Counter(data[data['Hour']==i]['Classification'])\n",
    "          hour_count.append(c)\n",
    "hour_count = pd.DataFrame(hour_count,index=hour)\n",
    "\n",
    "\n",
    "fig = plt.figure(figsize=[8,8])\n",
    "line1, = plt.plot(hour_count['ham']/sum(hour_count['ham']), label='ham')\n",
    "line2, = plt.plot(hour_count['spam']/sum(hour_count['spam']), label='spam')\n",
    "plt.axvline(x=8,c='gray',linestyle='dashed')\n",
    "plt.axvline(x=16,c='gray',linestyle='dashed')\n",
    "plt.ylabel(\"Proportion\")\n",
    "plt.xlabel(\"Hour\")\n",
    "plt.legend()\n",
    "plt.savefig(\"Ham_and_Spam_per_hour.png\")\n",
    "plt.show()"
   ]
  },
  {
   "cell_type": "code",
   "execution_count": 57,
   "metadata": {
    "collapsed": false
   },
   "outputs": [
    {
     "data": {
      "image/png": "[encoded data removed]",
      "text/plain": [
       "<matplotlib.figure.Figure at 0x13ca39bd0>"
      ]
     },
     "metadata": {},
     "output_type": "display_data"
    }
   ],
   "source": [
    "wd_count = []\n",
    "wd  = ['Mon','Tue','Wed','Thu','Fri','Sat','Sun']\n",
    "for i in wd :\n",
    "          c=collections.Counter(data[data['Weekday']==i]['Classification'])\n",
    "          wd_count.append(c)\n",
    "wd_count = pd.DataFrame(wd_count,index=range(7))\n",
    "\n",
    "fig = plt.figure(figsize=[8,8])\n",
    "line1, = plt.plot(wd_count['ham']/sum(wd_count['ham']), label='ham')\n",
    "line2, = plt.plot(wd_count['spam']/sum(wd_count['spam']), label='spam')\n",
    "plt.xticks(range(7),wd)\n",
    "plt.legend()\n",
    "plt.ylabel(\"Proportion\")\n",
    "plt.xlabel(\"Weekday\")\n",
    "plt.savefig(\"Ham_and_Spam_weekday.png\")\n",
    "plt.show()"
   ]
  },
  {
   "cell_type": "markdown",
   "metadata": {},
   "source": [
    "### Feature Engineering"
   ]
  },
  {
   "cell_type": "code",
   "execution_count": 7,
   "metadata": {
    "collapsed": false
   },
   "outputs": [
    {
     "data": {
      "text/html": [
       "<div>\n",
       "<table border=\"1\" class=\"dataframe\">\n",
       "  <thead>\n",
       "    <tr style=\"text-align: right;\">\n",
       "      <th></th>\n",
       "      <th>ham</th>\n",
       "      <th>spam</th>\n",
       "    </tr>\n",
       "  </thead>\n",
       "  <tbody>\n",
       "    <tr>\n",
       "      <th>0</th>\n",
       "      <td>60951</td>\n",
       "      <td>98930</td>\n",
       "    </tr>\n",
       "  </tbody>\n",
       "</table>\n",
       "</div>"
      ],
      "text/plain": [
       "     ham   spam\n",
       "0  60951  98930"
      ]
     },
     "execution_count": 7,
     "metadata": {},
     "output_type": "execute_result"
    }
   ],
   "source": [
    "#tfidf(original,bi,tri)\n",
    "count = CountVectorizer(ngram_range=(1,1),stop_words='english',analyzer='word')\n",
    "#count_bi = CountVectorizer(ngram_range=(1,2),stop_words='english',analyzer='word')\n",
    "#count_tri = CountVectorizer(ngram_range=(1,3),stop_words='english',analyzer='word')\n",
    "\n",
    "X_train_counts = count.fit_transform(train['Content'])\n",
    "tf_transformer = TfidfTransformer(use_idf=False).fit(X_train_counts)\n",
    "tfidf_transformer = TfidfTransformer()\n",
    "\n",
    "X_train_tf = tf_transformer.transform(X_train_counts)\n",
    "X_test_counts = count.transform(test['Content'])\n",
    "X_test_tf = tf_transformer.transform(X_test_counts)\n",
    "\n",
    "c = collections.Counter()\n",
    "c.update(data['Classification'])\n",
    "pd.DataFrame({'ham': c['ham'],'spam':c['spam']},index=[0])"
   ]
  },
  {
   "cell_type": "code",
   "execution_count": 8,
   "metadata": {
    "collapsed": false
   },
   "outputs": [],
   "source": [
    "#1:spam; 0:ham\n",
    "y_train = train['Classification']\n",
    "y_train  = (y_train  == 'spam')*1\n",
    "y_test = test['Classification']\n",
    "y_test = (y_test  == 'spam')*1"
   ]
  },
  {
   "cell_type": "markdown",
   "metadata": {},
   "source": [
    "### Data Reduction (SVD/LSA)\n",
    "\n",
    "- Reduce Tfidf matrix to dim=100 LSA matrix"
   ]
  },
  {
   "cell_type": "code",
   "execution_count": 9,
   "metadata": {
    "collapsed": false
   },
   "outputs": [],
   "source": [
    "from sklearn.decomposition import TruncatedSVD\n",
    "from sklearn.random_projection import sparse_random_matrix\n",
    "from sklearn.preprocessing import Normalizer\n",
    "lsa = TruncatedSVD(100, algorithm = 'arpack')\n",
    "dtm_lsa = lsa.fit_transform(X_train_tf)\n",
    "dtm_lsa = Normalizer(copy=False).fit_transform(dtm_lsa)\n",
    "\n",
    "dtm_lsa_test = lsa.transform(X_test_tf)\n",
    "dtm_lsa_test = Normalizer(copy=False).transform(dtm_lsa_test)"
   ]
  },
  {
   "cell_type": "markdown",
   "metadata": {},
   "source": [
    "###  Decision Tree"
   ]
  },
  {
   "cell_type": "code",
   "execution_count": 10,
   "metadata": {
    "collapsed": true
   },
   "outputs": [],
   "source": [
    "from sklearn.tree import DecisionTreeClassifier"
   ]
  },
  {
   "cell_type": "code",
   "execution_count": 11,
   "metadata": {
    "collapsed": false
   },
   "outputs": [
    {
     "name": "stdout",
     "output_type": "stream",
     "text": [
      "Running time is 78.2405939102\n"
     ]
    }
   ],
   "source": [
    "start_time = time.time()\n",
    "text_clf = Pipeline([('lsa', TruncatedSVD(100, algorithm = 'arpack')),\n",
    "                     ('clf', DecisionTreeClassifier(max_depth=10))])\n",
    "_ = text_clf.fit(X_train_tf,y_train)\n",
    "predicted = text_clf.predict(X_test_tf)\n",
    "confuseM = confusion_matrix(predicted, y_test)\n",
    "print \"Running time is {}\".format(time.time()-start_time)"
   ]
  },
  {
   "cell_type": "code",
   "execution_count": 12,
   "metadata": {
    "collapsed": false
   },
   "outputs": [
    {
     "data": {
      "text/plain": [
       "array([[16474,  1269],\n",
       "       [ 1847, 28375]])"
      ]
     },
     "execution_count": 12,
     "metadata": {},
     "output_type": "execute_result"
    }
   ],
   "source": [
    "confuseM"
   ]
  },
  {
   "cell_type": "code",
   "execution_count": 13,
   "metadata": {
    "collapsed": false
   },
   "outputs": [
    {
     "data": {
      "text/plain": [
       "0.93503596372354847"
      ]
     },
     "execution_count": 13,
     "metadata": {},
     "output_type": "execute_result"
    }
   ],
   "source": [
    "np.mean(predicted == y_test)"
   ]
  },
  {
   "cell_type": "code",
   "execution_count": 14,
   "metadata": {
    "collapsed": false
   },
   "outputs": [
    {
     "name": "stdout",
     "output_type": "stream",
     "text": [
      "Running time is 81.1206099987\n"
     ]
    }
   ],
   "source": [
    "start_time = time.time()\n",
    "text_clf = Pipeline([('lsa', TruncatedSVD(100, algorithm = 'arpack')),\n",
    "                     ('clf', DecisionTreeClassifier(max_depth=20))])\n",
    "_ = text_clf.fit(X_train_tf,y_train)\n",
    "predicted = text_clf.predict(X_test_tf)\n",
    "confuseM = confusion_matrix(predicted, y_test)\n",
    "print \"Running time is {}\".format(time.time()-start_time)"
   ]
  },
  {
   "cell_type": "code",
   "execution_count": 15,
   "metadata": {
    "collapsed": false
   },
   "outputs": [
    {
     "data": {
      "text/plain": [
       "array([[16837,  1167],\n",
       "       [ 1484, 28477]])"
      ]
     },
     "execution_count": 15,
     "metadata": {},
     "output_type": "execute_result"
    }
   ],
   "source": [
    "confuseM "
   ]
  },
  {
   "cell_type": "code",
   "execution_count": 16,
   "metadata": {
    "collapsed": false
   },
   "outputs": [
    {
     "data": {
      "text/plain": [
       "0.94473053268007923"
      ]
     },
     "execution_count": 16,
     "metadata": {},
     "output_type": "execute_result"
    }
   ],
   "source": [
    "np.mean(predicted == y_test) ### best"
   ]
  },
  {
   "cell_type": "code",
   "execution_count": 17,
   "metadata": {
    "collapsed": false
   },
   "outputs": [
    {
     "name": "stdout",
     "output_type": "stream",
     "text": [
      "Running time is 84.1060259342\n"
     ]
    }
   ],
   "source": [
    "start_time = time.time()\n",
    "text_clf = Pipeline([('lsa', TruncatedSVD(100, algorithm = 'arpack')),\n",
    "                     ('clf', DecisionTreeClassifier(max_depth=50))])\n",
    "_ = text_clf.fit(X_train_tf,y_train)\n",
    "predicted = text_clf.predict(X_test_tf)\n",
    "confuseM = confusion_matrix(predicted, y_test)\n",
    "print \"Running time is {}\".format(time.time()-start_time)"
   ]
  },
  {
   "cell_type": "code",
   "execution_count": 18,
   "metadata": {
    "collapsed": false
   },
   "outputs": [
    {
     "data": {
      "text/plain": [
       "array([[16907,  1325],\n",
       "       [ 1414, 28319]])"
      ]
     },
     "execution_count": 18,
     "metadata": {},
     "output_type": "execute_result"
    }
   ],
   "source": [
    "confuseM "
   ]
  },
  {
   "cell_type": "code",
   "execution_count": 19,
   "metadata": {
    "collapsed": false
   },
   "outputs": [
    {
     "data": {
      "text/plain": [
       "0.94289586156572502"
      ]
     },
     "execution_count": 19,
     "metadata": {},
     "output_type": "execute_result"
    }
   ],
   "source": [
    "np.mean(predicted == y_test)"
   ]
  },
  {
   "cell_type": "code",
   "execution_count": 20,
   "metadata": {
    "collapsed": false
   },
   "outputs": [
    {
     "name": "stdout",
     "output_type": "stream",
     "text": [
      "Running time is 85.103055954\n"
     ]
    }
   ],
   "source": [
    "start_time = time.time()\n",
    "text_clf = Pipeline([('lsa', TruncatedSVD(100, algorithm = 'arpack')),\n",
    "                     ('clf', DecisionTreeClassifier())])\n",
    "_ = text_clf.fit(X_train_tf,y_train)\n",
    "predicted = text_clf.predict(X_test_tf)\n",
    "confuseM = confusion_matrix(predicted, y_test)\n",
    "print \"Running time is {}\".format(time.time()-start_time)"
   ]
  },
  {
   "cell_type": "code",
   "execution_count": 21,
   "metadata": {
    "collapsed": false
   },
   "outputs": [
    {
     "data": {
      "text/plain": [
       "array([[16886,  1333],\n",
       "       [ 1435, 28311]])"
      ]
     },
     "execution_count": 21,
     "metadata": {},
     "output_type": "execute_result"
    }
   ],
   "source": [
    "confuseM "
   ]
  },
  {
   "cell_type": "code",
   "execution_count": 22,
   "metadata": {
    "collapsed": false
   },
   "outputs": [
    {
     "data": {
      "text/plain": [
       "0.94229125403940373"
      ]
     },
     "execution_count": 22,
     "metadata": {},
     "output_type": "execute_result"
    }
   ],
   "source": [
    "np.mean(predicted == y_test)"
   ]
  },
  {
   "cell_type": "markdown",
   "metadata": {},
   "source": [
    "### KNN"
   ]
  },
  {
   "cell_type": "code",
   "execution_count": 23,
   "metadata": {
    "collapsed": true
   },
   "outputs": [],
   "source": [
    "from sklearn.neighbors import KNeighborsClassifier"
   ]
  },
  {
   "cell_type": "code",
   "execution_count": 24,
   "metadata": {
    "collapsed": false
   },
   "outputs": [
    {
     "name": "stdout",
     "output_type": "stream",
     "text": [
      "Running time is 457.406303167\n"
     ]
    }
   ],
   "source": [
    "start_time = time.time()\n",
    "text_clf = Pipeline([('lsa', TruncatedSVD(100, algorithm = 'arpack')),\n",
    "                     ('clf', KNeighborsClassifier(n_neighbors=3))])\n",
    "_ = text_clf.fit(X_train_tf,y_train)\n",
    "predicted = text_clf.predict(X_test_tf)\n",
    "confuseM = confusion_matrix(predicted, y_test)\n",
    "print \"Running time is {}\".format(time.time()-start_time)"
   ]
  },
  {
   "cell_type": "code",
   "execution_count": 25,
   "metadata": {
    "collapsed": false
   },
   "outputs": [
    {
     "data": {
      "text/plain": [
       "array([[17331,   651],\n",
       "       [  990, 28993]])"
      ]
     },
     "execution_count": 25,
     "metadata": {},
     "output_type": "execute_result"
    }
   ],
   "source": [
    "confuseM"
   ]
  },
  {
   "cell_type": "code",
   "execution_count": 26,
   "metadata": {
    "collapsed": false
   },
   "outputs": [
    {
     "data": {
      "text/plain": [
       "0.96578755342437195"
      ]
     },
     "execution_count": 26,
     "metadata": {},
     "output_type": "execute_result"
    }
   ],
   "source": [
    "np.mean(predicted == y_test) ## best model"
   ]
  },
  {
   "cell_type": "code",
   "execution_count": 27,
   "metadata": {
    "collapsed": false
   },
   "outputs": [
    {
     "name": "stdout",
     "output_type": "stream",
     "text": [
      "Running time is 441.203185081\n"
     ]
    }
   ],
   "source": [
    "start_time = time.time()\n",
    "text_clf = Pipeline([('lsa', TruncatedSVD(100, algorithm = 'arpack')),\n",
    "                     ('clf', KNeighborsClassifier(n_neighbors=5))])\n",
    "_ = text_clf.fit(X_train_tf,y_train)\n",
    "predicted = text_clf.predict(X_test_tf)\n",
    "confuseM = confusion_matrix(predicted, y_test)\n",
    "print \"Running time is {}\".format(time.time()-start_time)"
   ]
  },
  {
   "cell_type": "code",
   "execution_count": 28,
   "metadata": {
    "collapsed": false
   },
   "outputs": [
    {
     "data": {
      "text/plain": [
       "array([[17241,   655],\n",
       "       [ 1080, 28989]])"
      ]
     },
     "execution_count": 28,
     "metadata": {},
     "output_type": "execute_result"
    }
   ],
   "source": [
    "confuseM"
   ]
  },
  {
   "cell_type": "code",
   "execution_count": 29,
   "metadata": {
    "collapsed": false
   },
   "outputs": [
    {
     "data": {
      "text/plain": [
       "0.96382779109767536"
      ]
     },
     "execution_count": 29,
     "metadata": {},
     "output_type": "execute_result"
    }
   ],
   "source": [
    "np.mean(predicted == y_test)"
   ]
  },
  {
   "cell_type": "code",
   "execution_count": 30,
   "metadata": {
    "collapsed": false
   },
   "outputs": [
    {
     "name": "stdout",
     "output_type": "stream",
     "text": [
      "Running time is 494.405426979\n"
     ]
    }
   ],
   "source": [
    "start_time = time.time()\n",
    "text_clf = Pipeline([('lsa', TruncatedSVD(100, algorithm = 'arpack')),\n",
    "                     ('clf', KNeighborsClassifier(n_neighbors=7))])\n",
    "_ = text_clf.fit(X_train_tf,y_train)\n",
    "predicted = text_clf.predict(X_test_tf)\n",
    "confuseM = confusion_matrix(predicted, y_test)\n",
    "print \"Running time is {}\".format(time.time()-start_time)"
   ]
  },
  {
   "cell_type": "code",
   "execution_count": 31,
   "metadata": {
    "collapsed": false
   },
   "outputs": [
    {
     "data": {
      "text/plain": [
       "array([[17125,   635],\n",
       "       [ 1196, 29009]])"
      ]
     },
     "execution_count": 31,
     "metadata": {},
     "output_type": "execute_result"
    }
   ],
   "source": [
    "confuseM"
   ]
  },
  {
   "cell_type": "code",
   "execution_count": 32,
   "metadata": {
    "collapsed": false
   },
   "outputs": [
    {
     "data": {
      "text/plain": [
       "0.96182633170019805"
      ]
     },
     "execution_count": 32,
     "metadata": {},
     "output_type": "execute_result"
    }
   ],
   "source": [
    "np.mean(predicted == y_test)"
   ]
  },
  {
   "cell_type": "markdown",
   "metadata": {},
   "source": [
    "### Bi-gram Decision Tree"
   ]
  },
  {
   "cell_type": "code",
   "execution_count": 33,
   "metadata": {
    "collapsed": false
   },
   "outputs": [],
   "source": [
    "#tfidf(original,bi,tri)\n",
    "count_bi = CountVectorizer(ngram_range=(1,2),stop_words='english',analyzer='word')\n",
    "\n",
    "X_train_counts_bi = count_bi.fit_transform(train['Content'])\n",
    "tf_transformer_bi = TfidfTransformer(use_idf=False).fit(X_train_counts_bi)\n",
    "tfidf_transformer_bi = TfidfTransformer()\n",
    "\n",
    "X_train_tf_bi = tf_transformer_bi.transform(X_train_counts_bi)\n",
    "X_test_counts_bi = count_bi.transform(test['Content'])\n",
    "X_test_tf_bi = tf_transformer_bi.transform(X_test_counts_bi)"
   ]
  },
  {
   "cell_type": "code",
   "execution_count": 34,
   "metadata": {
    "collapsed": false
   },
   "outputs": [
    {
     "name": "stdout",
     "output_type": "stream",
     "text": [
      "Running time is 1398.3274188\n"
     ]
    }
   ],
   "source": [
    "# Decision Tree\n",
    "start_time = time.time()\n",
    "text_clf = Pipeline([('lsa', TruncatedSVD(100, algorithm = 'arpack')),\n",
    "                     ('clf', DecisionTreeClassifier(max_depth=10))])\n",
    "_ = text_clf.fit(X_train_tf_bi,y_train)\n",
    "predicted = text_clf.predict(X_test_tf_bi)\n",
    "print \"Running time is {}\".format(time.time()-start_time)"
   ]
  },
  {
   "cell_type": "code",
   "execution_count": 35,
   "metadata": {
    "collapsed": false
   },
   "outputs": [
    {
     "data": {
      "text/plain": [
       "array([[16066,  1333],\n",
       "       [ 2255, 28311]])"
      ]
     },
     "execution_count": 35,
     "metadata": {},
     "output_type": "execute_result"
    }
   ],
   "source": [
    "confusion_matrix(predicted, y_test)"
   ]
  },
  {
   "cell_type": "code",
   "execution_count": 36,
   "metadata": {
    "collapsed": false
   },
   "outputs": [
    {
     "data": {
      "text/plain": [
       "0.92519545501928491"
      ]
     },
     "execution_count": 36,
     "metadata": {},
     "output_type": "execute_result"
    }
   ],
   "source": [
    "np.mean(predicted == y_test)"
   ]
  },
  {
   "cell_type": "code",
   "execution_count": 37,
   "metadata": {
    "collapsed": false
   },
   "outputs": [
    {
     "name": "stdout",
     "output_type": "stream",
     "text": [
      "Running time is 1220.94980311\n"
     ]
    }
   ],
   "source": [
    "# Decision Tree\n",
    "start_time = time.time()\n",
    "text_clf = Pipeline([('lsa', TruncatedSVD(100, algorithm = 'arpack')),\n",
    "                     ('clf', DecisionTreeClassifier(max_depth=20))])\n",
    "_ = text_clf.fit(X_train_tf_bi,y_train)\n",
    "predicted = text_clf.predict(X_test_tf_bi)\n",
    "print \"Running time is {}\".format(time.time()-start_time)"
   ]
  },
  {
   "cell_type": "code",
   "execution_count": 38,
   "metadata": {
    "collapsed": false
   },
   "outputs": [
    {
     "data": {
      "text/plain": [
       "array([[16787,  1353],\n",
       "       [ 1534, 28291]])"
      ]
     },
     "execution_count": 38,
     "metadata": {},
     "output_type": "execute_result"
    }
   ],
   "source": [
    "confusion_matrix(predicted, y_test)"
   ]
  },
  {
   "cell_type": "code",
   "execution_count": 39,
   "metadata": {
    "collapsed": false
   },
   "outputs": [
    {
     "data": {
      "text/plain": [
       "0.9398102783279475"
      ]
     },
     "execution_count": 39,
     "metadata": {},
     "output_type": "execute_result"
    }
   ],
   "source": [
    "np.mean(predicted == y_test)"
   ]
  },
  {
   "cell_type": "code",
   "execution_count": 40,
   "metadata": {
    "collapsed": false
   },
   "outputs": [
    {
     "name": "stdout",
     "output_type": "stream",
     "text": [
      "Running time is 846.503713131\n"
     ]
    }
   ],
   "source": [
    "# Decision Tree\n",
    "start_time = time.time()\n",
    "text_clf = Pipeline([('lsa', TruncatedSVD(100, algorithm = 'arpack')),\n",
    "                     ('clf', DecisionTreeClassifier(max_depth=50))])\n",
    "_ = text_clf.fit(X_train_tf_bi,y_train)\n",
    "predicted = text_clf.predict(X_test_tf_bi)\n",
    "print \"Running time is {}\".format(time.time()-start_time)"
   ]
  },
  {
   "cell_type": "code",
   "execution_count": 41,
   "metadata": {
    "collapsed": false
   },
   "outputs": [
    {
     "data": {
      "text/plain": [
       "array([[16881,  1524],\n",
       "       [ 1440, 28120]])"
      ]
     },
     "execution_count": 41,
     "metadata": {},
     "output_type": "execute_result"
    }
   ],
   "source": [
    "confusion_matrix(predicted, y_test)"
   ]
  },
  {
   "cell_type": "code",
   "execution_count": 42,
   "metadata": {
    "collapsed": false
   },
   "outputs": [
    {
     "data": {
      "text/plain": [
       "0.93820494110288755"
      ]
     },
     "execution_count": 42,
     "metadata": {},
     "output_type": "execute_result"
    }
   ],
   "source": [
    "np.mean(predicted == y_test)"
   ]
  },
  {
   "cell_type": "code",
   "execution_count": 43,
   "metadata": {
    "collapsed": false
   },
   "outputs": [
    {
     "name": "stdout",
     "output_type": "stream",
     "text": [
      "Running time is 910.410727024\n"
     ]
    }
   ],
   "source": [
    "# Decision Tree\n",
    "start_time = time.time()\n",
    "text_clf = Pipeline([('lsa', TruncatedSVD(100, algorithm = 'arpack')),\n",
    "                     ('clf', DecisionTreeClassifier())])\n",
    "_ = text_clf.fit(X_train_tf_bi,y_train)\n",
    "predicted = text_clf.predict(X_test_tf_bi)\n",
    "print \"Running time is {}\".format(time.time()-start_time)"
   ]
  },
  {
   "cell_type": "code",
   "execution_count": 44,
   "metadata": {
    "collapsed": false
   },
   "outputs": [
    {
     "data": {
      "text/plain": [
       "array([[16829,  1488],\n",
       "       [ 1492, 28156]])"
      ]
     },
     "execution_count": 44,
     "metadata": {},
     "output_type": "execute_result"
    }
   ],
   "source": [
    "confusion_matrix(predicted, y_test)"
   ]
  },
  {
   "cell_type": "code",
   "execution_count": 45,
   "metadata": {
    "collapsed": false
   },
   "outputs": [
    {
     "data": {
      "text/plain": [
       "0.93787136453664133"
      ]
     },
     "execution_count": 45,
     "metadata": {},
     "output_type": "execute_result"
    }
   ],
   "source": [
    "np.mean(predicted == y_test)"
   ]
  },
  {
   "cell_type": "markdown",
   "metadata": {},
   "source": [
    "### Bi-gram KNN"
   ]
  },
  {
   "cell_type": "code",
   "execution_count": 46,
   "metadata": {
    "collapsed": false
   },
   "outputs": [
    {
     "name": "stdout",
     "output_type": "stream",
     "text": [
      "Running time is 1107.20369387\n"
     ]
    }
   ],
   "source": [
    "# KNN\n",
    "start = time.time()\n",
    "text_clf = Pipeline([('lsa', TruncatedSVD(100, algorithm = 'arpack')),\n",
    "                     ('clf', KNeighborsClassifier(n_neighbors=3))])\n",
    "_ = text_clf.fit(X_train_tf_bi,y_train)\n",
    "predicted = text_clf.predict(X_test_tf_bi)\n",
    "print \"Running time is {}\".format(time.time()-start)"
   ]
  },
  {
   "cell_type": "code",
   "execution_count": 47,
   "metadata": {
    "collapsed": false
   },
   "outputs": [
    {
     "data": {
      "text/plain": [
       "array([[17405,   626],\n",
       "       [  916, 29018]])"
      ]
     },
     "execution_count": 47,
     "metadata": {},
     "output_type": "execute_result"
    }
   ],
   "source": [
    "confusion_matrix(predicted, y_test)"
   ]
  },
  {
   "cell_type": "code",
   "execution_count": 48,
   "metadata": {
    "collapsed": false
   },
   "outputs": [
    {
     "data": {
      "text/plain": [
       "0.9678515584280204"
      ]
     },
     "execution_count": 48,
     "metadata": {},
     "output_type": "execute_result"
    }
   ],
   "source": [
    "np.mean(predicted == y_test) # the best"
   ]
  },
  {
   "cell_type": "code",
   "execution_count": 49,
   "metadata": {
    "collapsed": false
   },
   "outputs": [
    {
     "name": "stdout",
     "output_type": "stream",
     "text": [
      "Running time is 1137.55607915\n"
     ]
    }
   ],
   "source": [
    "# KNN\n",
    "start = time.time()\n",
    "text_clf = Pipeline([('lsa', TruncatedSVD(100, algorithm = 'arpack')),\n",
    "                     ('clf', KNeighborsClassifier(n_neighbors=5))])\n",
    "_ = text_clf.fit(X_train_tf_bi,y_train)\n",
    "predicted = text_clf.predict(X_test_tf_bi)\n",
    "print \"Running time is {}\".format(time.time()-start)"
   ]
  },
  {
   "cell_type": "code",
   "execution_count": 50,
   "metadata": {
    "collapsed": false
   },
   "outputs": [
    {
     "data": {
      "text/plain": [
       "array([[17366,   634],\n",
       "       [  955, 29010]])"
      ]
     },
     "execution_count": 50,
     "metadata": {},
     "output_type": "execute_result"
    }
   ],
   "source": [
    "confusion_matrix(predicted, y_test)"
   ]
  },
  {
   "cell_type": "code",
   "execution_count": 51,
   "metadata": {
    "collapsed": false
   },
   "outputs": [
    {
     "data": {
      "text/plain": [
       "0.96687167726467216"
      ]
     },
     "execution_count": 51,
     "metadata": {},
     "output_type": "execute_result"
    }
   ],
   "source": [
    "np.mean(predicted == y_test)"
   ]
  },
  {
   "cell_type": "code",
   "execution_count": 52,
   "metadata": {
    "collapsed": false
   },
   "outputs": [
    {
     "name": "stdout",
     "output_type": "stream",
     "text": [
      "Running time is 1255.90421796\n"
     ]
    }
   ],
   "source": [
    "# KNN\n",
    "start = time.time()\n",
    "text_clf = Pipeline([('lsa', TruncatedSVD(100, algorithm = 'arpack')),\n",
    "                     ('clf', KNeighborsClassifier(n_neighbors= 7))])\n",
    "_ = text_clf.fit(X_train_tf_bi,y_train)\n",
    "predicted = text_clf.predict(X_test_tf_bi)\n",
    "print \"Running time is {}\".format(time.time()-start)"
   ]
  },
  {
   "cell_type": "code",
   "execution_count": 53,
   "metadata": {
    "collapsed": false
   },
   "outputs": [
    {
     "data": {
      "text/plain": [
       "array([[17291,   625],\n",
       "       [ 1030, 29019]])"
      ]
     },
     "execution_count": 53,
     "metadata": {},
     "output_type": "execute_result"
    }
   ],
   "source": [
    "confusion_matrix(predicted, y_test)"
   ]
  },
  {
   "cell_type": "code",
   "execution_count": 54,
   "metadata": {
    "collapsed": false
   },
   "outputs": [
    {
     "data": {
      "text/plain": [
       "0.96549567392890645"
      ]
     },
     "execution_count": 54,
     "metadata": {},
     "output_type": "execute_result"
    }
   ],
   "source": [
    "np.mean(predicted == y_test)"
   ]
  },
  {
   "cell_type": "code",
   "execution_count": null,
   "metadata": {
    "collapsed": true
   },
   "outputs": [],
   "source": []
  }
 ],
 "metadata": {
  "anaconda-cloud": {},
  "kernelspec": {
   "display_name": "Python [default]",
   "language": "python",
   "name": "python2"
  },
  "language_info": {
   "codemirror_mode": {
    "name": "ipython",
    "version": 2
   },
   "file_extension": ".py",
   "mimetype": "text/x-python",
   "name": "python",
   "nbconvert_exporter": "python",
   "pygments_lexer": "ipython2",
   "version": "2.7.12"
  }
 },
 "nbformat": 4,
 "nbformat_minor": 2
}
