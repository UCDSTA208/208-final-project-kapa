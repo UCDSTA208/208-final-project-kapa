{
 "cells": [
  {
   "cell_type": "code",
   "execution_count": 1,
   "metadata": {
    "collapsed": true,
    "deletable": true,
    "editable": true
   },
   "outputs": [],
   "source": [
    "import pandas as pd\n",
    "import numpy as np\n",
    "import email\n",
    "import os\n",
    "from email.parser import Parser\n",
    "import re\n",
    "import lxml.html"
   ]
  },
  {
   "cell_type": "code",
   "execution_count": 2,
   "metadata": {
    "collapsed": false,
    "deletable": true,
    "editable": true
   },
   "outputs": [],
   "source": [
    "ham_dir = '/media/sf_Windows/SPAM_ASSASSIN/HAM/'\n",
    "ham_emails = os.listdir(ham_dir)\n",
    "spam_dir = '/media/sf_Windows/SPAM_ASSASSIN/SPAM/'\n",
    "spam_emails = os.listdir(spam_dir)"
   ]
  },
  {
   "cell_type": "code",
   "execution_count": 3,
   "metadata": {
    "collapsed": false,
    "deletable": true,
    "editable": true
   },
   "outputs": [],
   "source": [
    "emails = os.listdir(spam_dir+spam_emails[0]+'/')"
   ]
  },
  {
   "cell_type": "code",
   "execution_count": 4,
   "metadata": {
    "collapsed": false,
    "deletable": true,
    "editable": true
   },
   "outputs": [
    {
     "data": {
      "text/plain": [
       "'/media/sf_Windows/SPAM_ASSASSIN/HAM/easy_ham_2002/0494.a0865131f55d26362a8efad99c37de01'"
      ]
     },
     "execution_count": 4,
     "metadata": {},
     "output_type": "execute_result"
    }
   ],
   "source": [
    "ham_dir+ham_emails[0]+'/'+emails[0]"
   ]
  },
  {
   "cell_type": "code",
   "execution_count": 20,
   "metadata": {
    "collapsed": false,
    "deletable": true,
    "editable": true
   },
   "outputs": [],
   "source": [
    "f = open(spam_dir+spam_emails[0]+'/'+emails[43], 'r')\n",
    "msg = f.read()\n",
    "f.close()"
   ]
  },
  {
   "cell_type": "code",
   "execution_count": 14,
   "metadata": {
    "collapsed": false,
    "deletable": true,
    "editable": true
   },
   "outputs": [],
   "source": [
    "parser = Parser()\n",
    "result = parser.parsestr(msg)\n",
    "tmp = result.get_payload()"
   ]
  },
  {
   "cell_type": "code",
   "execution_count": 21,
   "metadata": {
    "collapsed": false,
    "deletable": true,
    "editable": true
   },
   "outputs": [
    {
     "data": {
      "text/plain": [
       "'From susan_brown@excite.com  Sun Sep 22 21:56:25 2002\\nReturn-Path: <susan_brown@excite.com>\\nDelivered-To: zzzz@localhost.jmason.org\\nReceived: from localhost (jalapeno [127.0.0.1])\\n\\tby zzzzason.org (Postfix) with ESMTP id 5AD0D16F03\\n\\tfor <zzzz@localhost>; Sun, 22 Sep 2002 21:56:24 +0100 (IST)\\nReceived: from jalapeno [127.0.0.1]\\n\\tby localhost with IMAP (fetchmail-5.9.0)\\n\\tfor zzzz@localhost (single-drop); Sun, 22 Sep 2002 21:56:24 +0100 (IST)\\nReceived: from webnote.net (mail.webnote.net [193.120.211.219]) by\\n    dogma.slashnull.org (8.11.6/8.11.6) with ESMTP id g8MFWmC06188 for\\n    <zzzz4_example.com@jmason.org>; Sun, 22 Sep 2002 16:32:48 +0100\\nReceived: from rack3.easydns.com (rack3.easydns.com [205.210.42.50]) by\\n    webnote.net (8.9.3/8.9.3) with ESMTP id QAA12471 for <zzzz4@example.com>;\\n    Sun, 22 Sep 2002 16:33:21 +0100\\nFrom: susan_brown@excite.com\\nReceived: from excite.com (unknown [80.48.248.33]) by rack3.easydns.com\\n    (Postfix) with SMTP id 404084BB2F for <zzzz4@example.com>; Sun,\\n    22 Sep 2002 11:33:15 -0400 (EDT)\\nReply-To: <susan_brown@excite.com>\\nMessage-Id: <038e63d02c3c$5127d6e5$5bd10cc0@iofdnm>\\nTo: <zzzz4@example.com>\\nSubject: new extensions now only $14.95\\nDate: Sun, 22 Sep 0102 04:09:28 +1100\\nMIME-Version: 1.0\\nContent-Type: text/plain; charset=\"iso-8859-1\"\\nX-Priority: 3 (Normal)\\nX-Msmail-Priority: Normal\\nX-Mailer: Microsoft Outlook Express 5.50.4133.2400\\nImportance: Normal\\nContent-Transfer-Encoding: 8bit\\n\\nREGISTER DOMAINS FOR JUST $14.95\\n\\n\\nThe new domain names are finally available to the general public at discount prices. Now you can register one of the exciting new .BIZ or .INFO domain names, as well as the original .COM and .NET names for just $14.95. These brand new domain extensions were recently approved by ICANN and have the same rights as the original .COM and .NET domain names. The biggest benefit is of-course that the .BIZ and .INFO domain names are currently more available. i.e. it will be much easier to register an attractive and easy-to-remember domain name for the same price.  Visit: http://www.domainsforeveryone.com/ today for more info.\\n \\nRegister your domain name today for just $14.95 at: http://www.domainsforeveryone.com/  Registration fees include full access to an easy-to-use control panel to manage your domain name in the future.\\n \\nSincerely,\\n \\nDomain Administrator\\nDomains For Everyone\\n\\n\\nTo remove your email address from further promotional mailings from this company, click here:\\nhttp://www.centralremovalservice.com/cgi-bin/domain-remove.cgi\\n(f4)5241SxzP1-426eVQm2568RURF1-685fOOl31\\n\\n\\n\\n\\n\\n\\n\\n\\n'"
      ]
     },
     "execution_count": 21,
     "metadata": {},
     "output_type": "execute_result"
    }
   ],
   "source": [
    "msg"
   ]
  },
  {
   "cell_type": "code",
   "execution_count": 15,
   "metadata": {
    "collapsed": false,
    "deletable": true,
    "editable": true
   },
   "outputs": [
    {
     "ename": "TypeError",
     "evalue": "expected string or buffer",
     "output_type": "error",
     "traceback": [
      "\u001b[0;31m---------------------------------------------------------------------------\u001b[0m",
      "\u001b[0;31mTypeError\u001b[0m                                 Traceback (most recent call last)",
      "\u001b[0;32m<ipython-input-15-6b84c8d7f0c3>\u001b[0m in \u001b[0;36m<module>\u001b[0;34m()\u001b[0m\n\u001b[0;32m----> 1\u001b[0;31m \u001b[0mtmp\u001b[0m \u001b[0;34m=\u001b[0m \u001b[0mre\u001b[0m\u001b[0;34m.\u001b[0m\u001b[0msub\u001b[0m\u001b[0;34m(\u001b[0m\u001b[0;34m'\\n|\\t'\u001b[0m\u001b[0;34m,\u001b[0m\u001b[0;34m''\u001b[0m\u001b[0;34m,\u001b[0m\u001b[0mtmp\u001b[0m\u001b[0;34m)\u001b[0m\u001b[0;34m\u001b[0m\u001b[0m\n\u001b[0m",
      "\u001b[0;32m/usr/lib/python2.7/re.pyc\u001b[0m in \u001b[0;36msub\u001b[0;34m(pattern, repl, string, count, flags)\u001b[0m\n\u001b[1;32m    153\u001b[0m     \u001b[0ma\u001b[0m \u001b[0mcallable\u001b[0m\u001b[0;34m,\u001b[0m \u001b[0mit\u001b[0m\u001b[0;31m'\u001b[0m\u001b[0ms\u001b[0m \u001b[0mpassed\u001b[0m \u001b[0mthe\u001b[0m \u001b[0mmatch\u001b[0m \u001b[0mobject\u001b[0m \u001b[0;32mand\u001b[0m \u001b[0mmust\u001b[0m \u001b[0;32mreturn\u001b[0m\u001b[0;34m\u001b[0m\u001b[0m\n\u001b[1;32m    154\u001b[0m     a replacement string to be used.\"\"\"\n\u001b[0;32m--> 155\u001b[0;31m     \u001b[0;32mreturn\u001b[0m \u001b[0m_compile\u001b[0m\u001b[0;34m(\u001b[0m\u001b[0mpattern\u001b[0m\u001b[0;34m,\u001b[0m \u001b[0mflags\u001b[0m\u001b[0;34m)\u001b[0m\u001b[0;34m.\u001b[0m\u001b[0msub\u001b[0m\u001b[0;34m(\u001b[0m\u001b[0mrepl\u001b[0m\u001b[0;34m,\u001b[0m \u001b[0mstring\u001b[0m\u001b[0;34m,\u001b[0m \u001b[0mcount\u001b[0m\u001b[0;34m)\u001b[0m\u001b[0;34m\u001b[0m\u001b[0m\n\u001b[0m\u001b[1;32m    156\u001b[0m \u001b[0;34m\u001b[0m\u001b[0m\n\u001b[1;32m    157\u001b[0m \u001b[0;32mdef\u001b[0m \u001b[0msubn\u001b[0m\u001b[0;34m(\u001b[0m\u001b[0mpattern\u001b[0m\u001b[0;34m,\u001b[0m \u001b[0mrepl\u001b[0m\u001b[0;34m,\u001b[0m \u001b[0mstring\u001b[0m\u001b[0;34m,\u001b[0m \u001b[0mcount\u001b[0m\u001b[0;34m=\u001b[0m\u001b[0;36m0\u001b[0m\u001b[0;34m,\u001b[0m \u001b[0mflags\u001b[0m\u001b[0;34m=\u001b[0m\u001b[0;36m0\u001b[0m\u001b[0;34m)\u001b[0m\u001b[0;34m:\u001b[0m\u001b[0;34m\u001b[0m\u001b[0m\n",
      "\u001b[0;31mTypeError\u001b[0m: expected string or buffer"
     ]
    }
   ],
   "source": [
    "tmp = re.sub('\\n|\\t','',tmp)"
   ]
  },
  {
   "cell_type": "code",
   "execution_count": null,
   "metadata": {
    "collapsed": false,
    "deletable": true,
    "editable": true
   },
   "outputs": [],
   "source": [
    "a = lxml.html.fromstring(tmp).text_content()"
   ]
  },
  {
   "cell_type": "code",
   "execution_count": null,
   "metadata": {
    "collapsed": false,
    "deletable": true,
    "editable": true
   },
   "outputs": [],
   "source": [
    "a = a.replace(u'\\xa0', u' ').replace(u'\\xa9',u' ')\n",
    "robust_decode(a)"
   ]
  },
  {
   "cell_type": "code",
   "execution_count": 3,
   "metadata": {
    "collapsed": false,
    "deletable": true,
    "editable": true
   },
   "outputs": [],
   "source": [
    "##encode\n",
    "def robust_decode(bs):\n",
    "    '''Takes a byte string as param and convert it into a unicode one.\n",
    "First tries UTF8, and fallback to Latin1 if it fails'''\n",
    "    cr = None\n",
    "    try:\n",
    "        #cr = bs.decode('utf8')\n",
    "        cr = bs.decode('utf-8-sig')\n",
    "    except UnicodeDecodeError:\n",
    "        cr = bs.decode('ISO-8859-1')\n",
    "        cr = cr.encode(\"ascii\", \"ignore\")\n",
    "        #cr = cr.decode('utf-8-sig')\n",
    "    return cr\n",
    "\n",
    "# extract the body of email\n",
    "def walkMsg(msg):\n",
    "    \"\"\"\n",
    "    Input: string of email\n",
    "    Output: body of email\n",
    "    \"\"\"\n",
    "    for part in msg.walk():\n",
    "        if part.get_content_type() == \"multipart/alternative\":\n",
    "            continue\n",
    "        yield part.get_payload(decode=1)\n",
    "\n",
    "        # extract the information of email\n",
    "# still need some works to get number of cc and bcc\n",
    "def info_of_email(path,List_of_files,classification):\n",
    "    \"\"\"\n",
    "    Input: path, list of files name, classification(spam or ham)\n",
    "    Ourput: a list with info of email\n",
    "    \"\"\"\n",
    "    parser = Parser()\n",
    "    info = []\n",
    "    for files in List_of_files:\n",
    "        emailText =  open(path + files, 'rb').read()\n",
    "        email = parser.parsestr(emailText)\n",
    "        if email.get('cc') == None:\n",
    "            no_cc = 0\n",
    "        else:\n",
    "            no_cc = len(email.get('cc'))\n",
    "        if email.get(\"bcc\") == None:\n",
    "            no_bcc = 0\n",
    "        else:\n",
    "            no_bcc = len(email.get('bcc'))\n",
    "         \n",
    "        Date = email.get(\"Date\")\n",
    "        special_chars = re.compile(r\"\\t\\n\\r\")\n",
    "        \n",
    "        try: \n",
    "            year = re.search('\\d{4}',Date).group(0)\n",
    "        except:\n",
    "            year = None\n",
    "        try:\n",
    "            hour = re.search('\\d{2}:\\d{2}:\\d{2}',Date).group(0).split(\":\")[0]\n",
    "        except:\n",
    "            hour = None\n",
    "        try: \n",
    "            weekday = re.search('Mon|Tue|Wed|Thu|Fri|Sat|Sun',Date).group(0)\n",
    "        except: \n",
    "            weekday =None\n",
    "        try:\n",
    "            month = re.search('Jan|Feb|Mar|Apr|May|Jun|Jul|Aug|Sep|Oct|Nov|Dec|Sept',Date).group(0)\n",
    "        except:\n",
    "            month =None\n",
    "        \n",
    "        Content = \" \".join([robust_decode(i) for i in walkMsg(email) if i != None])\n",
    "        Content = re.sub('\\n|\\t',' ',Content)\n",
    "        if 'html' in Content:\n",
    "                Content = lxml.html.fromstring(Content).text_content() \n",
    "        Content = Content.replace(u'\\xa0', u' ').replace(u'\\xa9',u' ')\n",
    "        \n",
    "        \n",
    "        info.append([year, weekday, hour, month,\n",
    "                         email.get(\"From\"),email.get('To'),\n",
    "                         no_cc,no_bcc, \n",
    "                         str(email.get(\"Content-Type\")).split(\";\")[0].lower(),\n",
    "                         email.get('subject'),\n",
    "                         Content,\n",
    "                         classification])\n",
    "    return info"
   ]
  },
  {
   "cell_type": "code",
   "execution_count": 4,
   "metadata": {
    "collapsed": false,
    "deletable": true,
    "editable": true
   },
   "outputs": [],
   "source": [
    "ham_results = []\n",
    "for ham_folder in ham_emails:\n",
    "    emails = os.listdir(ham_dir+ham_folder)\n",
    "    ham_results.append(info_of_email(ham_dir+ham_folder+'/',emails,'ham'))"
   ]
  },
  {
   "cell_type": "code",
   "execution_count": 5,
   "metadata": {
    "collapsed": false,
    "deletable": true,
    "editable": true
   },
   "outputs": [],
   "source": [
    "hamList = [pd.DataFrame(df,\n",
    "                      columns=['Year','Weekday',\"Hour\",\"Month\",\n",
    "                          'From','To','cc','bcc','Content_type','Subjects','Content','Classification']) for df in ham_results]\n",
    "hamDF = pd.concat(hamList,ignore_index=True)"
   ]
  },
  {
   "cell_type": "code",
   "execution_count": 6,
   "metadata": {
    "collapsed": false,
    "deletable": true,
    "editable": true
   },
   "outputs": [],
   "source": [
    "spam_results = []\n",
    "for spam_folder in spam_emails:\n",
    "    emails = os.listdir(spam_dir+spam_folder)\n",
    "    spam_results.append(info_of_email(spam_dir+spam_folder+'/',emails,'spam'))"
   ]
  },
  {
   "cell_type": "code",
   "execution_count": 7,
   "metadata": {
    "collapsed": false,
    "deletable": true,
    "editable": true
   },
   "outputs": [],
   "source": [
    "spamList = [pd.DataFrame(df,\n",
    "                      columns=['Year','Weekday',\"Hour\",\"Month\",\n",
    "                          'From','To','cc','bcc','Content_type','Subjects','Content','Classification'])for df in spam_results]\n",
    "spamDF = pd.concat(spamList,ignore_index=True)"
   ]
  },
  {
   "cell_type": "code",
   "execution_count": 68,
   "metadata": {
    "collapsed": false,
    "deletable": true,
    "editable": true
   },
   "outputs": [],
   "source": [
    "pd.options.display.max_colwidth = 500"
   ]
  },
  {
   "cell_type": "code",
   "execution_count": 10,
   "metadata": {
    "collapsed": false,
    "deletable": true,
    "editable": true
   },
   "outputs": [
    {
     "data": {
      "text/plain": [
       "Counter({'2002': 2138})"
      ]
     },
     "execution_count": 10,
     "metadata": {},
     "output_type": "execute_result"
    }
   ],
   "source": [
    "from collections import Counter\n",
    "Counter(spamDF['Year'])"
   ]
  },
  {
   "cell_type": "code",
   "execution_count": 9,
   "metadata": {
    "collapsed": false,
    "deletable": true,
    "editable": true
   },
   "outputs": [],
   "source": [
    "hamDF = hamDF[hamDF.Year == '2002']\n",
    "spamDF = spamDF[spamDF.Year == '2002']"
   ]
  },
  {
   "cell_type": "code",
   "execution_count": 15,
   "metadata": {
    "collapsed": false
   },
   "outputs": [],
   "source": [
    "spamassassin = pd.concat([hamDF,spamDF])"
   ]
  },
  {
   "cell_type": "code",
   "execution_count": 16,
   "metadata": {
    "collapsed": false,
    "deletable": true,
    "editable": true
   },
   "outputs": [],
   "source": [
    "import pickle\n",
    "spamassassin.to_pickle(\"spamassassin.txt\")"
   ]
  }
 ],
 "metadata": {
  "kernelspec": {
   "display_name": "Python 2",
   "language": "python",
   "name": "python2"
  },
  "language_info": {
   "codemirror_mode": {
    "name": "ipython",
    "version": 2
   },
   "file_extension": ".py",
   "mimetype": "text/x-python",
   "name": "python",
   "nbconvert_exporter": "python",
   "pygments_lexer": "ipython2",
   "version": "2.7.12"
  }
 },
 "nbformat": 4,
 "nbformat_minor": 2
}
