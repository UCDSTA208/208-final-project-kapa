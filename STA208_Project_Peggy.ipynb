{
 "cells": [
  {
   "cell_type": "code",
   "execution_count": 1,
   "metadata": {
    "collapsed": false
   },
   "outputs": [],
   "source": [
    "import numpy as np\n",
    "import pandas as pd\n",
    "import string\n",
    "import email\n",
    "import os ##use this to traverse folders\n",
    "from email.parser import Parser\n",
    "\n",
    "#extract labels from trec06p/full/ file lists\n",
    "with open('trec06p/full/index', 'r') as ifile:\n",
    "    raw_labels = ifile.readlines()\n",
    "\n",
    "#using file list to give labels and e-mail numbers\n",
    "\n",
    "categories = [i.split( )[0] for i in raw_labels]\n",
    "email_nums = [i.split(\".\")[-1][:-1] for i in raw_labels]\n",
    "labels = pd.Series(categories, index=email_nums)\n"
   ]
  },
  {
   "cell_type": "code",
   "execution_count": 13,
   "metadata": {
    "collapsed": false
   },
   "outputs": [],
   "source": [
    "# extract the body of email\n",
    "def walkMsg(msg):\n",
    "    \"\"\"\n",
    "    Input: string of email\n",
    "    Output: body of email\n",
    "    \"\"\"\n",
    "    for part in msg.walk():\n",
    "        if part.get_content_type() == \"multipart/alternative\":\n",
    "            continue\n",
    "        yield part.get_payload(decode=1)"
   ]
  },
  {
   "cell_type": "code",
   "execution_count": 22,
   "metadata": {
    "collapsed": false
   },
   "outputs": [],
   "source": [
    "def info_of_email_2():\n",
    "    \"\"\"\n",
    "    Input: path, list of files name, classification(spam or ham)\n",
    "    Ourput: a list with info of email\n",
    "    \"\"\"\n",
    "    \n",
    "    parser = Parser()\n",
    "    info = []\n",
    "    for nums in range(len(categories)):\n",
    "        filepath = 'trec06p%s' % email_nums[nums]\n",
    "        \n",
    "        with open(filepath, 'r',) as ifile:\n",
    "            email = parser.parse(ifile)\n",
    "            info.append([email.get(\"From\"), email.get('To'), email.get('cc'), email.get('bcc'), \n",
    "                         str(email.get(\"Content-Type\")).split(\";\")[0],\n",
    "                         email.get('subject'), \" \".join([i for i in walkMsg(email) if i != None]),categories[nums]])\n",
    "    return info"
   ]
  },
  {
   "cell_type": "code",
   "execution_count": 23,
   "metadata": {
    "collapsed": false
   },
   "outputs": [],
   "source": [
    "df = pd.DataFrame(info_of_email_2(),\n",
    "                  columns=['From','To','cc','bcc','Content_type','Subjects','Content','Classification'])"
   ]
  },
  {
   "cell_type": "code",
   "execution_count": 24,
   "metadata": {
    "collapsed": false
   },
   "outputs": [
    {
     "data": {
      "text/html": [
       "<div>\n",
       "<table border=\"1\" class=\"dataframe\">\n",
       "  <thead>\n",
       "    <tr style=\"text-align: right;\">\n",
       "      <th></th>\n",
       "      <th>From</th>\n",
       "      <th>To</th>\n",
       "      <th>cc</th>\n",
       "      <th>bcc</th>\n",
       "      <th>Content_type</th>\n",
       "      <th>Subjects</th>\n",
       "      <th>Content</th>\n",
       "      <th>Classification</th>\n",
       "    </tr>\n",
       "  </thead>\n",
       "  <tbody>\n",
       "    <tr>\n",
       "      <th>0</th>\n",
       "      <td>jhpb@sarto.budd-lake.nj.us (Joseph H. Buehler)</td>\n",
       "      <td>None</td>\n",
       "      <td>None</td>\n",
       "      <td>None</td>\n",
       "      <td>text</td>\n",
       "      <td>new Catholic mailing list now up and running</td>\n",
       "      <td>The mailing list I queried about a few weeks a...</td>\n",
       "      <td>ham</td>\n",
       "    </tr>\n",
       "    <tr>\n",
       "      <th>1</th>\n",
       "      <td>\"Stella Lowry\" &lt;rookcuduq@yahoo.com&gt;</td>\n",
       "      <td>\"Brian\" &lt;bernice@groucho.cs.psu.edu&gt;</td>\n",
       "      <td>None</td>\n",
       "      <td>None</td>\n",
       "      <td>multipart/alternative</td>\n",
       "      <td>re[12]:</td>\n",
       "      <td>\\n                                 ...</td>\n",
       "      <td>spam</td>\n",
       "    </tr>\n",
       "    <tr>\n",
       "      <th>2</th>\n",
       "      <td>\"Walter\" &lt;trwmpca@downtowncumberland.com&gt;</td>\n",
       "      <td>&lt;arline@groucho.cs.psu.edu&gt;</td>\n",
       "      <td>None</td>\n",
       "      <td>None</td>\n",
       "      <td>text/plain</td>\n",
       "      <td>Take a moment to explore this.</td>\n",
       "      <td>Academic Qualifications available from prestig...</td>\n",
       "      <td>spam</td>\n",
       "    </tr>\n",
       "    <tr>\n",
       "      <th>3</th>\n",
       "      <td>Scott Schwartz &lt;schwartz@groucho.cs.psu.edu&gt;</td>\n",
       "      <td>9fans &lt;plan9-fans@cs.psu.edu&gt;</td>\n",
       "      <td>None</td>\n",
       "      <td>None</td>\n",
       "      <td>None</td>\n",
       "      <td>Greetings</td>\n",
       "      <td>Greetings all.  This is to verify your subscri...</td>\n",
       "      <td>ham</td>\n",
       "    </tr>\n",
       "    <tr>\n",
       "      <th>4</th>\n",
       "      <td>\"Mr Jailyn Koepke\" &lt;kiflsbizc@attheworld.com&gt;</td>\n",
       "      <td>melvin@groucho.cs.psu.edu</td>\n",
       "      <td>jenna@groucho.cs.psu.edu, keri@groucho.cs.psu....</td>\n",
       "      <td>None</td>\n",
       "      <td>multipart/alternative</td>\n",
       "      <td>LOANS @ 3.17% (27 term)</td>\n",
       "      <td>try chauncey may conferred the luscious not co...</td>\n",
       "      <td>spam</td>\n",
       "    </tr>\n",
       "  </tbody>\n",
       "</table>\n",
       "</div>"
      ],
      "text/plain": [
       "                                             From  \\\n",
       "0  jhpb@sarto.budd-lake.nj.us (Joseph H. Buehler)   \n",
       "1            \"Stella Lowry\" <rookcuduq@yahoo.com>   \n",
       "2       \"Walter\" <trwmpca@downtowncumberland.com>   \n",
       "3    Scott Schwartz <schwartz@groucho.cs.psu.edu>   \n",
       "4   \"Mr Jailyn Koepke\" <kiflsbizc@attheworld.com>   \n",
       "\n",
       "                                     To  \\\n",
       "0                                  None   \n",
       "1  \"Brian\" <bernice@groucho.cs.psu.edu>   \n",
       "2           <arline@groucho.cs.psu.edu>   \n",
       "3         9fans <plan9-fans@cs.psu.edu>   \n",
       "4             melvin@groucho.cs.psu.edu   \n",
       "\n",
       "                                                  cc   bcc  \\\n",
       "0                                               None  None   \n",
       "1                                               None  None   \n",
       "2                                               None  None   \n",
       "3                                               None  None   \n",
       "4  jenna@groucho.cs.psu.edu, keri@groucho.cs.psu....  None   \n",
       "\n",
       "            Content_type                                      Subjects  \\\n",
       "0                   text  new Catholic mailing list now up and running   \n",
       "1  multipart/alternative                                       re[12]:   \n",
       "2             text/plain                Take a moment to explore this.   \n",
       "3                   None                                     Greetings   \n",
       "4  multipart/alternative                       LOANS @ 3.17% (27 term)   \n",
       "\n",
       "                                             Content Classification  \n",
       "0  The mailing list I queried about a few weeks a...            ham  \n",
       "1             \\n                                 ...           spam  \n",
       "2  Academic Qualifications available from prestig...           spam  \n",
       "3  Greetings all.  This is to verify your subscri...            ham  \n",
       "4  try chauncey may conferred the luscious not co...           spam  "
      ]
     },
     "execution_count": 24,
     "metadata": {},
     "output_type": "execute_result"
    }
   ],
   "source": [
    "df.head()"
   ]
  },
  {
   "cell_type": "code",
   "execution_count": 25,
   "metadata": {
    "collapsed": false
   },
   "outputs": [],
   "source": [
    "##encode\n",
    "def robust_decode(bs):\n",
    "    '''Takes a byte string as param and convert it into a unicode one.\n",
    "First tries UTF8, and fallback to Latin1 if it fails'''\n",
    "    cr = None\n",
    "    try:\n",
    "        cr = bs.decode('utf8')\n",
    "    except UnicodeDecodeError:\n",
    "        cr = bs.decode('ISO-8859-1')\n",
    "    return cr\n",
    "df['Content'] =[robust_decode(i) for i in df['Content']]\n",
    "##remove newlines break/return\n",
    "df['Content']=[i.replace('\\n','').replace('\\r','').replace('\\t','') for i in df['Content']]"
   ]
  },
  {
   "cell_type": "code",
   "execution_count": null,
   "metadata": {
    "collapsed": true
   },
   "outputs": [],
   "source": [
    "##remove html tag\n",
    "#import lxml.html\n",
    "\n",
    "#df[['html' in i for i in df['Content_type']]]['Content'] = [lxml.html.fromstring(k).text_content() for k in df[['html' in i for i in df['Content_type']]]['Content']]"
   ]
  },
  {
   "cell_type": "code",
   "execution_count": 40,
   "metadata": {
    "collapsed": false
   },
   "outputs": [
    {
     "data": {
      "text/plain": [
       "u'The mailing list I queried about a few weeks ago is now up andrunning.  I have also set up an archive server; see below.  Thefollowing is the official welcome to the list message at the moment.Joe Buehler--------------------This mailing list is for people who desire serious, orthodoxdiscussion of the Roman Catholic religion.  I assume that it willcater mainly to Catholics, but everyone else is welcome, provided theyoperate within the below guidelines.  My own interests have adoctrinal bent, but I\\'m certainly not going to limit this list to justthat sort of discussion.Having participated in USENET religion groups for about 5 years now,one of my primary observations about Catholics on the net is that theydo not know their religion very well.  My hope is that this list mighthelp remedy this problem to some extent.  I would like to make this anet resource available for Catholics who want to know more about theirreligion.As far as moderation policy goes: The Catholic Church is not ademocracy, it\\'s a monarchy subject to a divinely given constitution.I don\\'t set the rules in the Church, neither does my parish priest,nor does my bishop, nor does the Pope.  Everyone has to adhere to theway Christ set things up.  I think it follows that it\\'s not reallyappropriate for someone to call himself a Catholic and argue with thisstate of affairs.  If you want to be Catholic, it\\'s simple enough, youhave to follow the teaching of the Church.The moderation policy will reflect this way of thinking: there areplenty of other places on the net where Catholic doctrine can befreely attacked!  If in doubt, you can always subscribe, and seewhether the list is to your taste.Besides the mailing list, there are a few other things that may be ofinterest:- I have set up an archive server that we can put interesting thingsin.  (It doesn\\'t have anything in it at the moment except some UNIXsoftware useful for such endeavors.)  Sorry, guys, but nothing that\\'scopyrighted goes into it!- I am planning on setting up a quotation server that can emailperiodic interesting citations from the principal sources of Catholicdoctrine.  (Not done yet.)- I have obtained permission from the English language publishers ofthe Italian Catholic magazine \"30 Days\" to take material from theirmagazine.  I intend to scan some of the more interesting pictures(ever seen a Cristero?  or St. Pius X?) and put them in the archives,and also post extracts from some of the more interesting articles.(It\\'s a European magazine, and is of generally higher quality thanAmerican Catholic material.  In my opinion...)If you have any questions, would like to subscribe, etc., send emailtocatholic@sarto.budd-lake.nj.us'"
      ]
     },
     "execution_count": 40,
     "metadata": {},
     "output_type": "execute_result"
    }
   ],
   "source": [
    "df.loc[0,\"Content\"]"
   ]
  },
  {
   "cell_type": "code",
   "execution_count": 36,
   "metadata": {
    "collapsed": false
   },
   "outputs": [
    {
     "data": {
      "text/html": [
       "<div>\n",
       "<table border=\"1\" class=\"dataframe\">\n",
       "  <thead>\n",
       "    <tr style=\"text-align: right;\">\n",
       "      <th></th>\n",
       "      <th>From</th>\n",
       "      <th>To</th>\n",
       "      <th>cc</th>\n",
       "      <th>bcc</th>\n",
       "      <th>Content_type</th>\n",
       "      <th>Subjects</th>\n",
       "      <th>Content</th>\n",
       "      <th>Classification</th>\n",
       "    </tr>\n",
       "  </thead>\n",
       "  <tbody>\n",
       "    <tr>\n",
       "      <th>0</th>\n",
       "      <td>jhpb@sarto.budd-lake.nj.us (Joseph H. Buehler)</td>\n",
       "      <td>None</td>\n",
       "      <td>None</td>\n",
       "      <td>None</td>\n",
       "      <td>text</td>\n",
       "      <td>new Catholic mailing list now up and running</td>\n",
       "      <td>The mailing list I queried about a few weeks a...</td>\n",
       "      <td>ham</td>\n",
       "    </tr>\n",
       "    <tr>\n",
       "      <th>1</th>\n",
       "      <td>\"Stella Lowry\" &lt;rookcuduq@yahoo.com&gt;</td>\n",
       "      <td>\"Brian\" &lt;bernice@groucho.cs.psu.edu&gt;</td>\n",
       "      <td>None</td>\n",
       "      <td>None</td>\n",
       "      <td>multipart/alternative</td>\n",
       "      <td>re[12]:</td>\n",
       "      <td>...</td>\n",
       "      <td>spam</td>\n",
       "    </tr>\n",
       "    <tr>\n",
       "      <th>2</th>\n",
       "      <td>\"Walter\" &lt;trwmpca@downtowncumberland.com&gt;</td>\n",
       "      <td>&lt;arline@groucho.cs.psu.edu&gt;</td>\n",
       "      <td>None</td>\n",
       "      <td>None</td>\n",
       "      <td>text/plain</td>\n",
       "      <td>Take a moment to explore this.</td>\n",
       "      <td>Academic Qualifications available from prestig...</td>\n",
       "      <td>spam</td>\n",
       "    </tr>\n",
       "    <tr>\n",
       "      <th>3</th>\n",
       "      <td>Scott Schwartz &lt;schwartz@groucho.cs.psu.edu&gt;</td>\n",
       "      <td>9fans &lt;plan9-fans@cs.psu.edu&gt;</td>\n",
       "      <td>None</td>\n",
       "      <td>None</td>\n",
       "      <td>None</td>\n",
       "      <td>Greetings</td>\n",
       "      <td>Greetings all.  This is to verify your subscri...</td>\n",
       "      <td>ham</td>\n",
       "    </tr>\n",
       "    <tr>\n",
       "      <th>4</th>\n",
       "      <td>\"Mr Jailyn Koepke\" &lt;kiflsbizc@attheworld.com&gt;</td>\n",
       "      <td>melvin@groucho.cs.psu.edu</td>\n",
       "      <td>jenna@groucho.cs.psu.edu, keri@groucho.cs.psu....</td>\n",
       "      <td>None</td>\n",
       "      <td>multipart/alternative</td>\n",
       "      <td>LOANS @ 3.17% (27 term)</td>\n",
       "      <td>try chauncey may conferred the luscious not co...</td>\n",
       "      <td>spam</td>\n",
       "    </tr>\n",
       "  </tbody>\n",
       "</table>\n",
       "</div>"
      ],
      "text/plain": [
       "                                             From  \\\n",
       "0  jhpb@sarto.budd-lake.nj.us (Joseph H. Buehler)   \n",
       "1            \"Stella Lowry\" <rookcuduq@yahoo.com>   \n",
       "2       \"Walter\" <trwmpca@downtowncumberland.com>   \n",
       "3    Scott Schwartz <schwartz@groucho.cs.psu.edu>   \n",
       "4   \"Mr Jailyn Koepke\" <kiflsbizc@attheworld.com>   \n",
       "\n",
       "                                     To  \\\n",
       "0                                  None   \n",
       "1  \"Brian\" <bernice@groucho.cs.psu.edu>   \n",
       "2           <arline@groucho.cs.psu.edu>   \n",
       "3         9fans <plan9-fans@cs.psu.edu>   \n",
       "4             melvin@groucho.cs.psu.edu   \n",
       "\n",
       "                                                  cc   bcc  \\\n",
       "0                                               None  None   \n",
       "1                                               None  None   \n",
       "2                                               None  None   \n",
       "3                                               None  None   \n",
       "4  jenna@groucho.cs.psu.edu, keri@groucho.cs.psu....  None   \n",
       "\n",
       "            Content_type                                      Subjects  \\\n",
       "0                   text  new Catholic mailing list now up and running   \n",
       "1  multipart/alternative                                       re[12]:   \n",
       "2             text/plain                Take a moment to explore this.   \n",
       "3                   None                                     Greetings   \n",
       "4  multipart/alternative                       LOANS @ 3.17% (27 term)   \n",
       "\n",
       "                                             Content Classification  \n",
       "0  The mailing list I queried about a few weeks a...            ham  \n",
       "1                                                ...           spam  \n",
       "2  Academic Qualifications available from prestig...           spam  \n",
       "3  Greetings all.  This is to verify your subscri...            ham  \n",
       "4  try chauncey may conferred the luscious not co...           spam  "
      ]
     },
     "execution_count": 36,
     "metadata": {},
     "output_type": "execute_result"
    }
   ],
   "source": [
    "df.head()"
   ]
  },
  {
   "cell_type": "code",
   "execution_count": null,
   "metadata": {
    "collapsed": true
   },
   "outputs": [],
   "source": []
  }
 ],
 "metadata": {
  "anaconda-cloud": {},
  "kernelspec": {
   "display_name": "Python [default]",
   "language": "python",
   "name": "python2"
  },
  "language_info": {
   "codemirror_mode": {
    "name": "ipython",
    "version": 2
   },
   "file_extension": ".py",
   "mimetype": "text/x-python",
   "name": "python",
   "nbconvert_exporter": "python",
   "pygments_lexer": "ipython2",
   "version": "2.7.12"
  }
 },
 "nbformat": 4,
 "nbformat_minor": 2
}
